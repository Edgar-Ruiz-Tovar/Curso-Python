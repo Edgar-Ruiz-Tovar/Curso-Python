{
 "cells": [
  {
   "cell_type": "markdown",
   "metadata": {},
   "source": [
    "# Ciclo while\n",
    "El ciclo while nos ejecutará un bloque de código *mientras* la una condición que pongamos sea verdadera. Si te pones a pensarlo es parecido a un **if** pero la diferencia con este es que sólo se ejecuta una vez, y en el ciclo **while** se ejecutará mientras la condición sea verdadera; es decir, puede haber ciclos infinitos. \n",
    "Pongamos un ejemplo, imagina que queremos hacer un programa que nos pida un número hasta que nosotros le demos un número positivo."
   ]
  },
  {
   "cell_type": "code",
   "execution_count": 1,
   "metadata": {},
   "outputs": [
    {
     "name": "stdout",
     "output_type": "stream",
     "text": [
      "Introduce un número: -2\n",
      "Introduce un número: 0\n",
      "Introduce un número: -9\n",
      "Introduce un número: -8\n",
      "Introduce un número: -3.4\n",
      "Introduce un número: 5\n"
     ]
    }
   ],
   "source": [
    "numero=0 # le doy el valor de cero para que al menos entre una vez al ciclo\n",
    "while (numero<0 or numero==0): # se repetirá el código mientras el número sea negativo o cero\n",
    "    numero=float(input(\"Introduce un número: \"))"
   ]
  },
  {
   "cell_type": "markdown",
   "metadata": {},
   "source": [
    "Una aplicación común para los ciclos **while** es cuando queremos crear un menú. Hagamos el programa que propusimos la clase pasada, en donde se le pide al usuario dos números y luego le aparece un menú con las siguientes opciones:\n",
    "1. Sumar.\n",
    "2. Restar.\n",
    "3. Multiplicar.\n",
    "4. Dividir.\n",
    "5. Salir."
   ]
  },
  {
   "cell_type": "code",
   "execution_count": 2,
   "metadata": {},
   "outputs": [
    {
     "name": "stdout",
     "output_type": "stream",
     "text": [
      "Introduce un número: 8\n",
      "Introduce otro número: 9.4\n",
      "1. Sumar.\n",
      "2. Restar\n",
      "3. Multiplicar\n",
      "4. Dividir\n",
      "5. Salir\n",
      "Elige una opción: 2\n",
      "La resta es -1.4000000000000004\n",
      "1. Sumar.\n",
      "2. Restar\n",
      "3. Multiplicar\n",
      "4. Dividir\n",
      "5. Salir\n",
      "Elige una opción: 4\n",
      "La división es 0.851063829787234\n",
      "1. Sumar.\n",
      "2. Restar\n",
      "3. Multiplicar\n",
      "4. Dividir\n",
      "5. Salir\n",
      "Elige una opción: 1\n",
      "La suma es 17.4\n",
      "1. Sumar.\n",
      "2. Restar\n",
      "3. Multiplicar\n",
      "4. Dividir\n",
      "5. Salir\n",
      "Elige una opción: 5\n"
     ]
    }
   ],
   "source": [
    "num1=float(input(\"Introduce un número: \"))\n",
    "num2=float(input(\"Introduce otro número: \"))\n",
    "opc=1\n",
    "while opc!=5:\n",
    "    print(\"1. Sumar.\",\"2. Restar\",\"3. Multiplicar\",\"4. Dividir\",\"5. Salir\",sep=\"\\n\")\n",
    "    opc=int(input(\"Elige una opción: \"))\n",
    "    if opc==1:\n",
    "        print(f\"La suma es {num1+num2}\")\n",
    "    elif opc==2:\n",
    "        print(f\"La resta es {num1-num2}\")\n",
    "    elif opc==3:\n",
    "        print(f\"La multiplicación es {num1*num2}\")\n",
    "    elif opc==4:\n",
    "        print(f\"La división es {num1/num2}\")    "
   ]
  },
  {
   "cell_type": "markdown",
   "metadata": {},
   "source": [
    "Como puedes observar el menú se continuará ejecutando a menos que el usuario elija la opción de salir. Nota también que a la función *print()* le introdujimos el argumento **sep**, el cual serparará las cadenas de texto según lo que nosotros queramos.\n",
    "Hagamos un pequeño ejercicio que nos ayudará a juntar varias herramientas que hemos visto."
   ]
  },
  {
   "cell_type": "markdown",
   "metadata": {},
   "source": [
    "### Ejercicio\n",
    "Hacer un programa que le pida al usuario números hasta que él ya no quiera introducir más, y finalmente le devuelva la lista de todos los números que introdujo y la suma de estos."
   ]
  },
  {
   "cell_type": "markdown",
   "metadata": {},
   "source": [
    "### Solución\n",
    "Primero crearemos con un ciclo **while** la lista de números "
   ]
  },
  {
   "cell_type": "code",
   "execution_count": 19,
   "metadata": {},
   "outputs": [
    {
     "name": "stdout",
     "output_type": "stream",
     "text": [
      "Introduce un número: 5\n",
      "¿Deseas introducir otro número?\n",
      " <Sí-No>si\n",
      "Introduce un número: 8\n",
      "¿Deseas introducir otro número?\n",
      " <Sí-No>Si\n",
      "Introduce un número: 9\n",
      "¿Deseas introducir otro número?\n",
      " <Sí-No>Sí\n",
      "Introduce un número: 7\n",
      "¿Deseas introducir otro número?\n",
      " <Sí-No>no\n",
      "[5.0, 8.0, 9.0, 7.0]\n"
     ]
    }
   ],
   "source": [
    "respuesta=\"Sí\" # la respuesta en principio será \"Sí\" para que pregunte al menos una vez por un número\n",
    "lista=[] # nuestra lista estará vacía pues apenas la vamos a llenar\n",
    "while (respuesta==\"Sí\" or respuesta==\"Si\" or respuesta==\"si\"): # mientras la variable respuesta tenga el valor de \"Sí\" \n",
    "    numero=float(input(\"Introduce un número: \")) # guardamos el número de tipo flotante en numero\n",
    "    lista.append(numero) # lo añadimos a la lista\n",
    "    respuesta=input(\"¿Deseas introducir otro número?\\n <Sí-No>\") # y si el usuario pone que \"Sí\" quiere introducir otro número\n",
    "    # entonces respuesta tomará ese valor de str y ello determinará si el ciclo se seguirá repitiendo\n",
    "print(lista) # imprimimos la lista para comprobar"
   ]
  },
  {
   "cell_type": "markdown",
   "metadata": {},
   "source": [
    "Nota que la suma la prodríamos realizar en el mismo ciclo, pero para efectos de practicar vamos a usar la función que hicimos la clase pasada (la que dada una lista me sumaba todos sus números).  "
   ]
  },
  {
   "cell_type": "code",
   "execution_count": 4,
   "metadata": {},
   "outputs": [],
   "source": [
    "def suma_lista(lista):\n",
    "    suma=0\n",
    "    for elemento in lista:\n",
    "        suma+=elemento\n",
    "    return suma"
   ]
  },
  {
   "cell_type": "markdown",
   "metadata": {},
   "source": [
    "Con lo que nuestro programa quedaría finalizado con las siguientes líneas de código"
   ]
  },
  {
   "cell_type": "code",
   "execution_count": 5,
   "metadata": {},
   "outputs": [
    {
     "name": "stdout",
     "output_type": "stream",
     "text": [
      "Tu lista es:  [2.5, 5.0, 9.8]  y la suma da:  17.3\n"
     ]
    }
   ],
   "source": [
    "print(\"Tu lista es: \",lista,\" y la suma da: \",suma_lista(lista))"
   ]
  },
  {
   "cell_type": "markdown",
   "metadata": {},
   "source": [
    "Nota: la función suma_lista que nosotros hicimos, ya viene incluída en Python con la función sum() "
   ]
  },
  {
   "cell_type": "code",
   "execution_count": 6,
   "metadata": {},
   "outputs": [
    {
     "data": {
      "text/plain": [
       "17.3"
      ]
     },
     "execution_count": 6,
     "metadata": {},
     "output_type": "execute_result"
    }
   ],
   "source": [
    "sum(lista)"
   ]
  },
  {
   "cell_type": "markdown",
   "metadata": {},
   "source": [
    "# Operadores Relacionales\n",
    "Los Operadores Relacionales los hemos estado implementando a lo largo de las clases ya que son muy intuitivos, por lo que ahora sólo nos limitaremos a dar el uso que les podemos dar y su simbología correspondiente. Recuerda que estos operadores simpre nos regresarán un valor Booleano (True o False)\n",
    "## Menor que y Menor igual que\n",
    "Representado por los símbolos < y <= respectivamente. Nos da una relación de orden."
   ]
  },
  {
   "cell_type": "code",
   "execution_count": 7,
   "metadata": {},
   "outputs": [
    {
     "name": "stdout",
     "output_type": "stream",
     "text": [
      "Ejemplos con respuesta True\n",
      "True\n",
      "True\n",
      "Ejemplos con respuesta False\n",
      "False\n",
      "False\n"
     ]
    }
   ],
   "source": [
    "print(\"Ejemplos con respuesta True\")\n",
    "# ¿2 es menor que 3?\n",
    "print(2<3)\n",
    "# ¿3 es menor o igual que 3?\n",
    "print(3<=3)\n",
    "print(\"Ejemplos con respuesta False\")\n",
    "# ¿1 es menor que 0?\n",
    "print(1<0)\n",
    "# ¿7 es menor o igual a 6.9?\n",
    "print(7<=6.9)"
   ]
  },
  {
   "cell_type": "markdown",
   "metadata": {},
   "source": [
    "Un dato interesante es que también aplica con las letras del alfabeto."
   ]
  },
  {
   "cell_type": "code",
   "execution_count": 8,
   "metadata": {},
   "outputs": [
    {
     "name": "stdout",
     "output_type": "stream",
     "text": [
      "True\n"
     ]
    }
   ],
   "source": [
    "print(\"a\"<\"b\")"
   ]
  },
  {
   "cell_type": "markdown",
   "metadata": {},
   "source": [
    "## Mayor que y Mayor igual que\n",
    "Representado por los símbolos > y >= respectivamente. Mismo uso que el anterior."
   ]
  },
  {
   "cell_type": "code",
   "execution_count": 9,
   "metadata": {},
   "outputs": [
    {
     "name": "stdout",
     "output_type": "stream",
     "text": [
      "Ejemplos con respuesta True\n",
      "True\n",
      "True\n",
      "Ejemplos con respuesta False\n",
      "False\n",
      "False\n"
     ]
    }
   ],
   "source": [
    "print(\"Ejemplos con respuesta True\")\n",
    "# ¿3 es mayor que 2?\n",
    "print(3>2)\n",
    "# ¿3 es mayor o igual que 3?\n",
    "print(3>=3)\n",
    "print(\"Ejemplos con respuesta False\")\n",
    "# ¿0 es mayor que 1?\n",
    "print(0>1)\n",
    "# ¿6.9 es mayor o igual a 7?\n",
    "print(6.9>=7)"
   ]
  },
  {
   "cell_type": "markdown",
   "metadata": {},
   "source": [
    "## Igualdad\n",
    "Recuerda que en programación el símbolo = significa asignación (cuando yo pongo numero=3 lo que hago es a la variable numero le asigno el valor de 3) y el símbolo == nos sirve para preguntar si una cosa es igual a otra cosa."
   ]
  },
  {
   "cell_type": "code",
   "execution_count": 10,
   "metadata": {},
   "outputs": [
    {
     "name": "stdout",
     "output_type": "stream",
     "text": [
      "Ejemplos con respuesta True\n",
      "Con números:  True\n",
      "Con números:  True\n",
      "Con listas:  True\n",
      "Ejemplos con respuesta False\n",
      "Con números:  False\n",
      "Con números:  False\n",
      "Con listas:  False\n"
     ]
    }
   ],
   "source": [
    "print(\"Ejemplos con respuesta True\")\n",
    "print(\"Con números: \",3==3)\n",
    "print(\"Con números: \",\"Hola Cathy\"==\"Hola Cathy\")\n",
    "print(\"Con listas: \",[1,2,3]==[1,2,3])\n",
    "print(\"Ejemplos con respuesta False\")\n",
    "print(\"Con números: \",3==2)\n",
    "print(\"Con números: \",\"hola cathy\"==\"Hola Cathy\")\n",
    "print(\"Con listas: \",[1,2.1,3]==[1,2,3])"
   ]
  },
  {
   "cell_type": "markdown",
   "metadata": {},
   "source": [
    "## Diferencia\n",
    "Para saber si algo es diferente de otra cosa usamos el símbolo !="
   ]
  },
  {
   "cell_type": "code",
   "execution_count": 11,
   "metadata": {},
   "outputs": [
    {
     "name": "stdout",
     "output_type": "stream",
     "text": [
      "Ejemplos con respuesta True\n",
      "Con números:  True\n",
      "Con números:  True\n",
      "Con listas:  True\n",
      "Ejemplos con respuesta False\n",
      "Con números:  False\n",
      "Con números:  False\n",
      "Con listas:  False\n"
     ]
    }
   ],
   "source": [
    "print(\"Ejemplos con respuesta True\")\n",
    "print(\"Con números: \",3!=2)\n",
    "print(\"Con números: \",\"hola cathy\"!=\"Hola Cathy\")\n",
    "print(\"Con listas: \",[1,2.1,3]!=[1,2,3])\n",
    "print(\"Ejemplos con respuesta False\")\n",
    "print(\"Con números: \",3!=3)\n",
    "print(\"Con números: \",\"Hola Cathy\"!=\"Hola Cathy\")\n",
    "print(\"Con listas: \",[1,2,3]!=[1,2,3])"
   ]
  },
  {
   "cell_type": "markdown",
   "metadata": {},
   "source": [
    "# Operadores Lógicos \n",
    "Los Operadores Lógicos nos servirán para determinar el valor Booleano de una serie de operadores relacionales basándose en la Lógica Formal.\n",
    "## Operador and \n",
    "Para que una serie de operadores relacionales sea **True** con el operador **and** necesitamos que todas y cada una de ellas lo sean. "
   ]
  },
  {
   "cell_type": "code",
   "execution_count": 12,
   "metadata": {},
   "outputs": [
    {
     "name": "stdout",
     "output_type": "stream",
     "text": [
      "Ejemplos con respuesta True\n",
      "True\n",
      "True\n",
      "Ejemplos con respuesta False\n",
      "False\n",
      "False\n"
     ]
    }
   ],
   "source": [
    "print(\"Ejemplos con respuesta True\")\n",
    "print(3==3 and 5==5 and 3!=2) #T y T y T=T\n",
    "print(3==3 and \"Hola Mundo\"==\"Hola Mundo\" and \"Hola Mundo\"!=\"Que onda\" and 6.9<=7)\n",
    "print(\"Ejemplos con respuesta False\")\n",
    "print(3!=3 and 5==5 and 3!=2)\n",
    "print(3!=3 and \"Hola Mundo\"==\"Hola Mundo\" and \"Hola Mundo\"!=\"Que onda\" and 6.9<=7)"
   ]
  },
  {
   "cell_type": "markdown",
   "metadata": {},
   "source": [
    "## Operador or \n",
    "Para que una serie de operadores relacionales sea **True** con el operador **or** basta que al menos ellas lo sea. "
   ]
  },
  {
   "cell_type": "code",
   "execution_count": 13,
   "metadata": {},
   "outputs": [
    {
     "name": "stdout",
     "output_type": "stream",
     "text": [
      "Ejemplos con respuesta True\n",
      "True\n",
      "True\n",
      "Ejemplos con respuesta False\n",
      "False\n",
      "False\n"
     ]
    }
   ],
   "source": [
    "print(\"Ejemplos con respuesta True\")\n",
    "print(\"Facebook\"==\"WhatsApp\" or 2==2 or 3>5)\n",
    "print(\"Hola que tal\"!=\"Quibo\" or 9==8 or 7<6 or 5==5)\n",
    "print(\"Ejemplos con respuesta False\")\n",
    "print(\"Facebook\"==\"WhatsApp\" or 2==3 or 3>5)\n",
    "print(\"Hola que tal\"==\"Quibo\" or 9==8 or 7<5 or 5!=5)"
   ]
  },
  {
   "cell_type": "markdown",
   "metadata": {},
   "source": [
    "## Operador not\n",
    "El operador más sencillo pues lo único que hace es devolvernos el valor contrario del Booleano"
   ]
  },
  {
   "cell_type": "code",
   "execution_count": 14,
   "metadata": {},
   "outputs": [
    {
     "name": "stdout",
     "output_type": "stream",
     "text": [
      "False\n",
      "True\n"
     ]
    }
   ],
   "source": [
    "print(not(True))\n",
    "print(not(\"Hola que tal\"==\"Quibo\" or 9==8 or 7<5 or 5!=5)) # era False, lo vuelve True"
   ]
  },
  {
   "cell_type": "markdown",
   "metadata": {},
   "source": [
    "### Ejercicio\n",
    "Dada la siguiente lista [1,10,2.3,8,\"Edgar\",\"Cathy\",6.4,20.5,9,\"Hola\",10,\"Mundo\"] realiza un programa que me almacene en lista_numeros todos los números (ordenados de menor a mayor) y en lista_strings todas las palabras."
   ]
  },
  {
   "cell_type": "markdown",
   "metadata": {},
   "source": [
    "Algunos hints:\n",
    "1. Recuerda que el método type() nos devuelve el tipo del que sea la variable.\n",
    "2. El método sort() nos ayuda a ordenar una lista."
   ]
  },
  {
   "cell_type": "code",
   "execution_count": 17,
   "metadata": {},
   "outputs": [
    {
     "name": "stdout",
     "output_type": "stream",
     "text": [
      "[20.5, 10, 10, 9, 8, 6.4, 2.3, 1]\n",
      "['Edgar', 'Cathy', 'Hola', 'Mundo']\n"
     ]
    }
   ],
   "source": [
    "lista=[1,10,2.3,8,\"Edgar\",\"Cathy\",6.4,20.5,9,\"Hola\",10,\"Mundo\"]\n",
    "lista_numeros=[]\n",
    "lista_strings=[]\n",
    "for elemento in lista:\n",
    "    if (type(elemento)==int or type(elemento)==float):\n",
    "        lista_numeros.append(elemento)\n",
    "    else:\n",
    "        lista_strings.append(elemento)\n",
    "lista_numeros.sort()\n",
    "lista_numeros.sort(reverse=True)\n",
    "print(lista_numeros)\n",
    "print(lista_strings)"
   ]
  },
  {
   "cell_type": "markdown",
   "metadata": {},
   "source": [
    "### Ejercicios\n",
    "1. ¿Cómo se te ocurre mejorar el programa del menú?\n",
    "2. Cuadrantes: hacer un programa que reciba las coordenas *(x,y)* de un punto y determine en cuál cuadrante se encuentra."
   ]
  },
  {
   "cell_type": "markdown",
   "metadata": {},
   "source": [
    "# Módulo random\n",
    "A pesar de aún no haber visto POO vamos a ir introduciendo algunos módulos. El módulo random nos va a servir principalmente para obtener número aleatorios.\n",
    "## Método randrange()\n",
    "El método random.randrange(a,b) nos dará un número **int** aleatorio entre los números a y b-1. Si sólo se pone randrange(a) nos dará un número aleatorio entre 0 y a-1."
   ]
  },
  {
   "cell_type": "code",
   "execution_count": 45,
   "metadata": {},
   "outputs": [
    {
     "name": "stdout",
     "output_type": "stream",
     "text": [
      "-8\n"
     ]
    }
   ],
   "source": [
    "import random \n",
    "num_aleatorio=random.randrange(-10,10)\n",
    "print(num_aleatorio)"
   ]
  },
  {
   "cell_type": "markdown",
   "metadata": {},
   "source": [
    "Para saber todas las funciones que tiene un módulo usamos la función dir()"
   ]
  },
  {
   "cell_type": "code",
   "execution_count": 31,
   "metadata": {},
   "outputs": [
    {
     "data": {
      "text/plain": [
       "['BPF',\n",
       " 'LOG4',\n",
       " 'NV_MAGICCONST',\n",
       " 'RECIP_BPF',\n",
       " 'Random',\n",
       " 'SG_MAGICCONST',\n",
       " 'SystemRandom',\n",
       " 'TWOPI',\n",
       " '_BuiltinMethodType',\n",
       " '_MethodType',\n",
       " '_Sequence',\n",
       " '_Set',\n",
       " '__all__',\n",
       " '__builtins__',\n",
       " '__cached__',\n",
       " '__doc__',\n",
       " '__file__',\n",
       " '__loader__',\n",
       " '__name__',\n",
       " '__package__',\n",
       " '__spec__',\n",
       " '_acos',\n",
       " '_bisect',\n",
       " '_ceil',\n",
       " '_cos',\n",
       " '_e',\n",
       " '_exp',\n",
       " '_inst',\n",
       " '_itertools',\n",
       " '_log',\n",
       " '_os',\n",
       " '_pi',\n",
       " '_random',\n",
       " '_sha512',\n",
       " '_sin',\n",
       " '_sqrt',\n",
       " '_test',\n",
       " '_test_generator',\n",
       " '_urandom',\n",
       " '_warn',\n",
       " 'betavariate',\n",
       " 'choice',\n",
       " 'choices',\n",
       " 'expovariate',\n",
       " 'gammavariate',\n",
       " 'gauss',\n",
       " 'getrandbits',\n",
       " 'getstate',\n",
       " 'lognormvariate',\n",
       " 'normalvariate',\n",
       " 'paretovariate',\n",
       " 'randint',\n",
       " 'random',\n",
       " 'randrange',\n",
       " 'sample',\n",
       " 'seed',\n",
       " 'setstate',\n",
       " 'shuffle',\n",
       " 'triangular',\n",
       " 'uniform',\n",
       " 'vonmisesvariate',\n",
       " 'weibullvariate']"
      ]
     },
     "execution_count": 31,
     "metadata": {},
     "output_type": "execute_result"
    }
   ],
   "source": [
    "dir(random)"
   ]
  },
  {
   "cell_type": "markdown",
   "metadata": {},
   "source": [
    "## Método random()\n",
    "random.random() nos dará un número entre 0 y 1 (será obviamente **float**)"
   ]
  },
  {
   "cell_type": "code",
   "execution_count": 38,
   "metadata": {},
   "outputs": [
    {
     "name": "stdout",
     "output_type": "stream",
     "text": [
      "0.025341771672705238\n"
     ]
    }
   ],
   "source": [
    "import random \n",
    "num_aleatorio=random.random()\n",
    "print(num_aleatorio)"
   ]
  },
  {
   "cell_type": "markdown",
   "metadata": {},
   "source": [
    "## Método random.uniform()\n",
    "random.uniform(a,b) nos dará un número **float** entre a y b (sin b estar incluído). "
   ]
  },
  {
   "cell_type": "code",
   "execution_count": 44,
   "metadata": {},
   "outputs": [
    {
     "name": "stdout",
     "output_type": "stream",
     "text": [
      "0.5943601415807565\n"
     ]
    }
   ],
   "source": [
    "import random \n",
    "num_aleatorio=random.uniform(0,10)\n",
    "print(num_aleatorio)"
   ]
  },
  {
   "cell_type": "markdown",
   "metadata": {},
   "source": [
    "### Ejercicio: Adivina el número\n",
    "Crea un programa que genere un número entero aleatorio entre 0 y 50 y pida al usuario adivinarlo. Se permitirán 5 intentos y en cada intento se le dirá al usuario si el número que está introduciendo es mayor o menor al número que se quiere adivinar. Si pasan los 5 intentos sin atinarle el usuario perderá. Después trata de generalizarlo para que no haya límite en el número de intentos, es decir, que el usuario adivine hasta que le atine."
   ]
  },
  {
   "cell_type": "code",
   "execution_count": null,
   "metadata": {},
   "outputs": [],
   "source": [
    "objetivo=random.randrange(0,51)\n",
    "print(objetivo)\n",
    "intentos,bandera=0,0 # asignanción múltiplipe\n",
    "while intentos<5:\n",
    "    intentos+=1\n",
    "    numero=int(input(\"Introduce un número: \"))\n",
    "    if numero>objetivo:\n",
    "        print(f\"El número {numero} es mayor.\")\n",
    "    elif numero<objetivo:\n",
    "        print(f\"El número {numero} es menor.\")\n",
    "    else: \n",
    "        print(f\"Felicidades, has acertado!!!\")\n",
    "        bandera=1\n",
    "        break\n",
    "if bandera==0:\n",
    "    print(\"Suerte para la próxima.\")"
   ]
  },
  {
   "cell_type": "markdown",
   "metadata": {},
   "source": [
    "Notas:\n",
    "1. Fíjtate cómo en la línea 3 hicimos asignación múltiple.\n",
    "2. El break sirve para interrumpir un proceso."
   ]
  }
 ],
 "metadata": {
  "kernelspec": {
   "display_name": "Python 3",
   "language": "python",
   "name": "python3"
  },
  "language_info": {
   "codemirror_mode": {
    "name": "ipython",
    "version": 3
   },
   "file_extension": ".py",
   "mimetype": "text/x-python",
   "name": "python",
   "nbconvert_exporter": "python",
   "pygments_lexer": "ipython3",
   "version": "3.7.3"
  }
 },
 "nbformat": 4,
 "nbformat_minor": 2
}
