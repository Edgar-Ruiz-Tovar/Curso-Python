{
 "cells": [
  {
   "cell_type": "markdown",
   "metadata": {},
   "source": [
    "# Ejercicios\n",
    "1. Escribir un programa que almacene en una lista los siguientes precios, 50, 75, 46, 22, 80, 65, 8, y muestre por pantalla el menor y el mayor de los precios. Generalizarlo para cualquier lista de números.\n",
    "2. Escriba un programa que pida la anchura y altura de un rectángulo y lo dibuje con caracteres producto (*).\n",
    "3. Dado un número determinar qué día de la semana es y si es fin de semana o no.\n",
    "4. Hacer el ejercicio anterior pero ahora para 5 días que se tomarán de manera aleatoria.\n",
    "5. Dadas 2 listas devolver una lista que contenga todos los elementos en común y que no haya repetidos.\n",
    "6. Crear una función que calcule el factorial de un número y lo pruebe con 8!=40320\n",
    "$$n!=n(n-1)(n-2)\\cdot\\ldots \\cdot2\\cdot 1$$\n",
    "7. Crear una función que calcule la combinaciones de $n$ en $k$ \n",
    "$$\\displaystyle{n \\choose k}=\\left(\\dfrac{n!}{(n-k)!\\cdot k!}\\right)$$\n",
    "8. Dada una palabra que se escogerá aleatoriamente de la siguiente lista\n",
    "$$[\"Historia\",\"Alicia\",\"Demian\",\"Camus\",\"Kant\"]$$\n",
    "   Programar el juego del ahorcado.\n",
    "9. Escribir un programa que almacene los vectores (1,2,3) y (-1,0,2) en dos listas y muestre por pantalla su producto escalar."
   ]
  },
  {
   "cell_type": "code",
   "execution_count": null,
   "metadata": {},
   "outputs": [],
   "source": [
    "num=5\n",
    "num*=5\n",
    "print(num)\n",
    "cadena=\"Hola\"\n",
    "cadena*=2\n",
    "print(cadena)"
   ]
  },
  {
   "cell_type": "code",
   "execution_count": null,
   "metadata": {},
   "outputs": [],
   "source": [
    "altura=int(input(\"Introduce la altura del rectángulo: \"))\n",
    "anchura=int(input(\"Introduce la anchura del rectángulo: \"))\n",
    "for i in range(altura):\n",
    "    print(anchura*\"* \")"
   ]
  },
  {
   "cell_type": "code",
   "execution_count": null,
   "metadata": {},
   "outputs": [],
   "source": [
    "import random\n",
    "def dia_semana(dia):\n",
    "    semana={1:\"Lunes\",2:\"Martes\",3:\"Miércoles\",4:\"Jueves\",5:\"Viernes\",6:\"Sábado\",7:\"Domingo\"}\n",
    "    if (dia == 6 or dia == 7):\n",
    "        return(semana[dia] + \", Fin de Semana\")\n",
    "    else:\n",
    "        return(semana[dia] + \", Entre Semana\")\n",
    "\n",
    "for i in range(5):\n",
    "    dia=random.randrange(1,8)\n",
    "    print(dia)\n",
    "    print(dia_semana(dia))"
   ]
  },
  {
   "cell_type": "code",
   "execution_count": null,
   "metadata": {},
   "outputs": [],
   "source": [
    "lista1=[1,2,3,3,4]\n",
    "lista2=[2,3,5,6]\n",
    "listaprint=[]\n",
    "for elementos in lista1:\n",
    "    if elementos in lista2 and elementos not in listaprint:\n",
    "        listaprint.append(elementos)\n",
    "print(listaprint)"
   ]
  },
  {
   "cell_type": "code",
   "execution_count": null,
   "metadata": {},
   "outputs": [],
   "source": [
    "def factorial(n):\n",
    "    fac=1\n",
    "    for i in range(1,n+1):\n",
    "        fac*=i\n",
    "    return fac\n",
    "print(factorial(8))\n",
    "def combinatoria(n,k):\n",
    "    return factorial(n)/(factorial(k)*factorial(n-k))\n",
    "\n",
    "print(combinatoria(25,8))"
   ]
  },
  {
   "cell_type": "code",
   "execution_count": null,
   "metadata": {},
   "outputs": [],
   "source": [
    "vector1=[1,2,3]\n",
    "vector2=[-1,0,2]\n",
    "suma=0\n",
    "for i in range(len(vector1)):\n",
    "    suma+=(vector1[i]*vector2[i])\n",
    "print(suma)"
   ]
  }
 ],
 "metadata": {
  "kernelspec": {
   "display_name": "Python 3",
   "language": "python",
   "name": "python3"
  },
  "language_info": {
   "codemirror_mode": {
    "name": "ipython",
    "version": 3
   },
   "file_extension": ".py",
   "mimetype": "text/x-python",
   "name": "python",
   "nbconvert_exporter": "python",
   "pygments_lexer": "ipython3",
   "version": "3.7.3"
  }
 },
 "nbformat": 4,
 "nbformat_minor": 2
}
