{
 "cells": [
  {
   "cell_type": "markdown",
   "metadata": {},
   "source": [
    "# Bases de datos\n",
    "Las bases de datos (dataframes) nos permiten tener información organizada, mediante columnas, de distintos tipos de datos.\n",
    "\n",
    "Para hacer uso de ellos necesitaremos tener el módulo *pandas*\n",
    "## Crear bases de datos\n",
    "Podemos crear dataframes de dos maneras: por medio de un diccionario o por medio de una matriz.\n",
    "### Crear bases de datos con un diccionario\n",
    "Para convertir a dataframe instanciamos un objeto de tipo DataFrame. La clave será el nombre de la columna y el valor será los elementos que habrá."
   ]
  },
  {
   "cell_type": "code",
   "execution_count": 1,
   "metadata": {},
   "outputs": [
    {
     "name": "stdout",
     "output_type": "stream",
     "text": [
      "     Alumno  Tareas Expediente  Parciales\n",
      "0     Edgar     8.0       1245         10\n",
      "1     Kathy     9.2       7889         10\n",
      "2      Juan     7.0       3215          8\n",
      "3  Salvador    10.0       4567          9\n"
     ]
    }
   ],
   "source": [
    "import pandas as pd\n",
    "diccionario={\n",
    "    'Alumno':['Edgar','Kathy','Juan','Salvador'],\n",
    "    'Tareas':[8,9.2,7,10],\n",
    "    'Expediente':['1245','7889','3215','4567'],\n",
    "    'Parciales':[10,10,8,9]\n",
    "}\n",
    "df=pd.DataFrame(diccionario)\n",
    "print(df)"
   ]
  },
  {
   "cell_type": "markdown",
   "metadata": {},
   "source": [
    "## Acceder a columnas\n",
    "Para acceder a las columnas del dataframe podemos hacerlo por: clave o atributo.\n",
    "### Acceder a columnas por clave\n",
    "Usamos igual que un diccionario donde la clave es la columna a la que nosotros queremos acceder."
   ]
  },
  {
   "cell_type": "code",
   "execution_count": 2,
   "metadata": {},
   "outputs": [
    {
     "name": "stdout",
     "output_type": "stream",
     "text": [
      "0    1245\n",
      "1    7889\n",
      "2    3215\n",
      "3    4567\n",
      "Name: Expediente, dtype: object\n"
     ]
    }
   ],
   "source": [
    "print(df['Expediente'])"
   ]
  },
  {
   "cell_type": "markdown",
   "metadata": {},
   "source": [
    "### Accerder a columnas por atributo\n",
    "Los atributos de los dataframes son sus columnas por lo que para acceder a ellas sólo necesitamos usar la notación punto."
   ]
  },
  {
   "cell_type": "code",
   "execution_count": 3,
   "metadata": {
    "scrolled": true
   },
   "outputs": [
    {
     "name": "stdout",
     "output_type": "stream",
     "text": [
      "0    1245\n",
      "1    7889\n",
      "2    3215\n",
      "3    4567\n",
      "Name: Expediente, dtype: object\n"
     ]
    }
   ],
   "source": [
    "print(df.Expediente)"
   ]
  },
  {
   "cell_type": "markdown",
   "metadata": {},
   "source": [
    "### Acceder a un elemento de una columna\n",
    "Una columna es una Serie por lo que para acceder a un valor en específico sólo necesitamos poner su índice "
   ]
  },
  {
   "cell_type": "code",
   "execution_count": 4,
   "metadata": {},
   "outputs": [
    {
     "name": "stdout",
     "output_type": "stream",
     "text": [
      "7889\n"
     ]
    }
   ],
   "source": [
    "print(df.Expediente[1]) # accede al expediente del 2do alumno"
   ]
  },
  {
   "cell_type": "markdown",
   "metadata": {},
   "source": [
    "### Acceder a elementos que cumplan un criterio\n",
    "Muchas veces necesitaremos acceder a elementos que cumplan cierta característica y la manera de proceder es exactamente igual que en el lenguaje R.\n",
    "\n",
    "Por ejemplo, con la siguiente línea de código nosotros vamos a imprimir el nombre de todos los alumnos que tengan una calificación en sus tareas mayor a 8."
   ]
  },
  {
   "cell_type": "code",
   "execution_count": 6,
   "metadata": {},
   "outputs": [
    {
     "name": "stdout",
     "output_type": "stream",
     "text": [
      "1       Kathy\n",
      "3    Salvador\n",
      "Name: Alumno, dtype: object\n",
      "0    1245\n",
      "1    7889\n",
      "3    4567\n",
      "Name: Expediente, dtype: object\n"
     ]
    }
   ],
   "source": [
    "print(df.Alumno[df.Tareas>8])\n",
    "print(df.Expediente[df.Parciales>8])"
   ]
  },
  {
   "cell_type": "markdown",
   "metadata": {},
   "source": [
    "## Cambiar nombre de columnas\n",
    "Usamos el método rename() y modificamos el parámetro columns con un diccionario."
   ]
  },
  {
   "cell_type": "code",
   "execution_count": 7,
   "metadata": {},
   "outputs": [
    {
     "name": "stdout",
     "output_type": "stream",
     "text": [
      "     Alumno  Tareas Expediente  Examen\n",
      "0     Edgar     8.0       1245      10\n",
      "1     Kathy     9.2       7889      10\n",
      "2      Juan     7.0       3215       8\n",
      "3  Salvador    10.0       4567       9\n"
     ]
    }
   ],
   "source": [
    "print(df.rename(columns={'Parciales':'Examen'}))"
   ]
  },
  {
   "cell_type": "code",
   "execution_count": 8,
   "metadata": {},
   "outputs": [
    {
     "name": "stdout",
     "output_type": "stream",
     "text": [
      "     Alumno  Tareas Expediente  Parciales\n",
      "0     Edgar     8.0       1245         10\n",
      "1     Kathy     9.2       7889         10\n",
      "2      Juan     7.0       3215          8\n",
      "3  Salvador    10.0       4567          9\n"
     ]
    }
   ],
   "source": [
    "print(df)"
   ]
  },
  {
   "cell_type": "markdown",
   "metadata": {},
   "source": [
    "**Nota**: el cambio se hace por valor, no por referencia. Es decir, me crea un nuevo dataframe; no me modifica el que ya tengo."
   ]
  },
  {
   "cell_type": "markdown",
   "metadata": {},
   "source": [
    "## Aplicar funciones\n",
    "Imagina que quisiéramos darles un punto extra en tareas a todos los alumnos solamente porque somos bien buena onda, entonces si te fijas tendríamos que sumarle 1 a toda la columna de *Tareas*. Y aquí es cuando entra en juego la función **apply**\n",
    "### Función apply()\n",
    "*Sintaxis*: apply(func, convert_dtype=True, args=())"
   ]
  },
  {
   "cell_type": "code",
   "execution_count": 11,
   "metadata": {
    "scrolled": true
   },
   "outputs": [
    {
     "name": "stdout",
     "output_type": "stream",
     "text": [
      "     Alumno  Tareas Expediente  Parciales\n",
      "0     Edgar     9.0       1245         10\n",
      "1     Kathy    10.2       7889         10\n",
      "2      Juan     8.0       3215          8\n",
      "3  Salvador    11.0       4567          9\n"
     ]
    }
   ],
   "source": [
    "# creamos nuestra función\n",
    "def sumar_1(calificacion):\n",
    "    return calificacion+1\n",
    "# la aplicamos a la columna de Tareas\n",
    "df.Tareas=df.Tareas.apply(sumar_1) # porque es por valor\n",
    "print(df)"
   ]
  },
  {
   "cell_type": "markdown",
   "metadata": {},
   "source": [
    "### apply(lambda)\n",
    "Utilizamos *lambda* cuando queramos definir una función temporal.\n",
    "\n",
    "En nuestro caso quedaría del siguiente modo."
   ]
  },
  {
   "cell_type": "code",
   "execution_count": 12,
   "metadata": {},
   "outputs": [
    {
     "name": "stdout",
     "output_type": "stream",
     "text": [
      "0    10.0\n",
      "1    11.2\n",
      "2     9.0\n",
      "3    12.0\n",
      "dtype: float64\n"
     ]
    }
   ],
   "source": [
    "print(df.apply( lambda calificacion: calificacion['Tareas']+1 ,axis=1 ))"
   ]
  },
  {
   "cell_type": "markdown",
   "metadata": {},
   "source": [
    "**Nota**: usamos *axis=1* porque nos queremos mover respecto a las filas. Si quisiéramos respecto a las columnas sería con *axis=0*."
   ]
  },
  {
   "cell_type": "markdown",
   "metadata": {},
   "source": [
    "## Atributo loc[]\n",
    "El atributo loc nos permite accesar a la fila del índice que nosotros indiquemos."
   ]
  },
  {
   "cell_type": "code",
   "execution_count": 13,
   "metadata": {
    "scrolled": true
   },
   "outputs": [
    {
     "name": "stdout",
     "output_type": "stream",
     "text": [
      "Alumno        Edgar\n",
      "Tareas            9\n",
      "Expediente     1245\n",
      "Parciales        10\n",
      "Name: 0, dtype: object\n"
     ]
    }
   ],
   "source": [
    "# accesamos a la columna 0 que es la correspondiente a la información de Edgar\n",
    "print(df.loc[0])"
   ]
  },
  {
   "cell_type": "markdown",
   "metadata": {},
   "source": [
    "### Acceder a un rango de índices\n",
    "Procedemos con el *slicing*"
   ]
  },
  {
   "cell_type": "code",
   "execution_count": 14,
   "metadata": {
    "scrolled": true
   },
   "outputs": [
    {
     "name": "stdout",
     "output_type": "stream",
     "text": [
      "  Alumno  Tareas Expediente  Parciales\n",
      "0  Edgar     9.0       1245         10\n",
      "1  Kathy    10.2       7889         10\n",
      "2   Juan     8.0       3215          8\n"
     ]
    }
   ],
   "source": [
    "# nos imprime los la información de los 3 primeros alumnos\n",
    "print(df.loc[0:2])"
   ]
  },
  {
   "cell_type": "markdown",
   "metadata": {},
   "source": [
    "### Acceder a una columna en específico\n",
    "Ponemos de segundo argumento la columna que queramos"
   ]
  },
  {
   "cell_type": "code",
   "execution_count": 15,
   "metadata": {
    "scrolled": true
   },
   "outputs": [
    {
     "name": "stdout",
     "output_type": "stream",
     "text": [
      "0    Edgar\n",
      "1    Kathy\n",
      "2     Juan\n",
      "Name: Alumno, dtype: object\n"
     ]
    }
   ],
   "source": [
    "# nos imprime el nombre de los 3 primeros alumnos\n",
    "print(df.loc[0:2,'Alumno'])"
   ]
  },
  {
   "cell_type": "markdown",
   "metadata": {},
   "source": [
    "### Acceder a varias columnas\n",
    "En el segundo argumento ponemos todas las columnas a las cuales queramos acceder."
   ]
  },
  {
   "cell_type": "code",
   "execution_count": 16,
   "metadata": {
    "scrolled": true
   },
   "outputs": [
    {
     "name": "stdout",
     "output_type": "stream",
     "text": [
      "  Alumno  Parciales\n",
      "0  Edgar         10\n",
      "1  Kathy         10\n"
     ]
    }
   ],
   "source": [
    "# nos imprime el nombre y la calificación de los parciales de los primeros 2 alumnos.\n",
    "print(df.loc[0:1,['Alumno','Parciales']])"
   ]
  },
  {
   "cell_type": "markdown",
   "metadata": {},
   "source": [
    "Por último hagamos una gráfica de barras de las calificaciones parciales de los alumnos, haciendo uso del módulo *matplotlib*"
   ]
  },
  {
   "cell_type": "code",
   "execution_count": 18,
   "metadata": {},
   "outputs": [
    {
     "data": {
      "image/png": "[encoded data removed]",
      "text/plain": [
       "<Figure size 432x288 with 1 Axes>"
      ]
     },
     "metadata": {
      "needs_background": "light"
     },
     "output_type": "display_data"
    }
   ],
   "source": [
    "import matplotlib.pyplot as plt\n",
    "\n",
    "plt.bar(df.Alumno,df.Parciales,width=0.5,color='orange')\n",
    "plt.title('Calificación Parcial')\n",
    "plt.xlabel('Alumnos')\n",
    "plt.ylabel('Calificación')\n",
    "plt.show()"
   ]
  }
 ],
 "metadata": {
  "kernelspec": {
   "display_name": "Python 3",
   "language": "python",
   "name": "python3"
  },
  "language_info": {
   "codemirror_mode": {
    "name": "ipython",
    "version": 3
   },
   "file_extension": ".py",
   "mimetype": "text/x-python",
   "name": "python",
   "nbconvert_exporter": "python",
   "pygments_lexer": "ipython3",
   "version": "3.7.3"
  }
 },
 "nbformat": 4,
 "nbformat_minor": 2
}
