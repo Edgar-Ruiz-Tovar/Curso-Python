{
 "cells": [
  {
   "cell_type": "markdown",
   "metadata": {},
   "source": [
    "## Ejercicio inversión"
   ]
  },
  {
   "cell_type": "code",
   "execution_count": null,
   "metadata": {},
   "outputs": [],
   "source": [
    "import random\n",
    "class Inversion():\n",
    "    \n",
    "    def __init__(self,monto,tasa=None):\n",
    "        self.monto=monto\n",
    "        self.tasa=random.random()\n",
    "        print(f\"Tu tasa es de: {self.tasa}\")\n",
    "        \n",
    "    def simple(self,n):\n",
    "        return self.monto*(1+self.tasa*n)\n",
    "    \n",
    "    def compuesto(self,n):\n",
    "        return self.monto*(1+self.monto)**n\n",
    "        \n",
    "i=Inversion(100)\n",
    "print(i.simple(10))\n",
    "print(i.compuesto(10))"
   ]
  },
  {
   "cell_type": "markdown",
   "metadata": {},
   "source": [
    "## Ejercicio Alumno"
   ]
  },
  {
   "cell_type": "code",
   "execution_count": null,
   "metadata": {},
   "outputs": [],
   "source": [
    "class Alumno():\n",
    "    \n",
    "    def __init__(self,nombre,edad):\n",
    "        self.nombre=nombre\n",
    "        self.edad=edad\n",
    "        \n",
    "    def mostrar(self):\n",
    "        return f\"Nombre: {self.nombre} Edad: {self.edad}\"\n",
    "        \n",
    "\n",
    "respuesta=\"si\"\n",
    "alumnos=[]\n",
    "while respuesta==\"si\":\n",
    "    nombre=input(\"Introduce el nombre del alumno: \")        \n",
    "    edad=int(input(\"Introduce la edad: \"))\n",
    "    alumno=Alumno(nombre,edad)\n",
    "    alumnos.append(alumno)\n",
    "    respuesta=input(\"Deseas introducir otro alumno <si-no>\")\n",
    "while True:\n",
    "    opc=int(input(\"Elige una opción:\\n1. Mostrar todos los alumnos.\\n2. Eliminar un alumno\\n3. Añadir un nuevo alumno.\\n4. Salir\\n\"))\n",
    "    if opc==1:\n",
    "        for alumno in alumnos:\n",
    "            print(alumno.mostrar())\n",
    "    elif opc==2:\n",
    "        n=input(\"Introduce el nombre del alumno que desees eliminar: \")\n",
    "        for alumno in alumnos:\n",
    "            if n == alumno.nombre:\n",
    "                alumnos.remove(alumno)\n",
    "        print(\"Alumno eliminado\")        \n",
    "        for alumno in alumnos:\n",
    "            print(alumno.mostrar())\n",
    "    elif opc==3:\n",
    "        nombre=input(\"Introduce el nombre: \")\n",
    "        edad=int(input(\"Introduce la edad: \"))\n",
    "        alumno=Alumno(nombre,edad)\n",
    "        alumnos.append(alumno)\n",
    "        for alumno in alumnos:\n",
    "            print(alumno.mostrar())\n",
    "        \n",
    "    elif opc==4:\n",
    "        break"
   ]
  },
  {
   "cell_type": "markdown",
   "metadata": {},
   "source": [
    "### Método index\n",
    "El método index es un método de listas el cual nos devuelve el índice en el que aparece un ítem y error si no aparece."
   ]
  },
  {
   "cell_type": "code",
   "execution_count": null,
   "metadata": {},
   "outputs": [],
   "source": [
    "print([1,2,3,4].index(3)) # nos devuelve 2 pues está en ese posición\n",
    "print([1,2,3,4].index(5)) # nos da error pues el 5 no pertenece a esa lista"
   ]
  },
  {
   "cell_type": "markdown",
   "metadata": {},
   "source": [
    "# Ejercicio Punto\n",
    "1. Relizar una clase que se llame Punto la cual me cree un punto de la forma $(x,y)$\n",
    "2. Hacer un método que dado otro punto calcule el vector resultante.\n",
    "\n",
    "La fórmula para obtener un vector dados los puntos $(x_1,y_1)$ y $(x_2,y_2)$ es\n",
    "\n",
    "$$(x_2-x_1,y_2-y_1)$$\n",
    "\n",
    "3. Hacer un método que dado otro punto nos calcule la distancia entre ellos\n",
    "\n",
    "La fórmula para obtener la distancia entre los puntos $(x_1,y_1)$ y $(x_2,y_2)$ es\n",
    "\n",
    "$$\\sqrt{(x_2-x_1)^2+(y_2-y_1)^2}$$\n",
    "\n",
    "4. Hacer un método que dado otro punto nos devuelva el punto medio entre ellos.\n",
    "\n",
    "La fórmula para obtener el punto entre los puntos $(x_1,y_1)$ y $(x_2,y_2)$ es\n",
    "\n",
    "$$\\left(\\dfrac{x_1+x_2}{2},\\dfrac{y_1+y_2}{2}\\right)$$\n",
    "\n",
    "5. Verifica los últimos dos métodos obteniendo el punto medio entre dos puntos y comprobando que la distancia de este a cualquiera de los puntos extremos es la mitad de la distancia entre ellos."
   ]
  },
  {
   "cell_type": "code",
   "execution_count": null,
   "metadata": {},
   "outputs": [],
   "source": [
    "from math import sqrt\n",
    "\n",
    "class Punto():\n",
    "    \n",
    "    def __init__(self,x,y):\n",
    "        self.x=x\n",
    "        self.y=y\n",
    "        print(f\"Se ha creado el punto: ({self.x},{self.y})\")\n",
    "        \n",
    "    def __str__(self):\n",
    "        return f\"Punto ({self.x},{self.y})\"\n",
    "        \n",
    "    def vector(self,p):\n",
    "        return f\"El vector resultante entre ({self.x},{self.y}) y ({p.x},{p.y}) es: ({p.x-self.x},{p.y-self.y})\"\n",
    "    \n",
    "    def distancia(self,p):\n",
    "        return f\"La distancia entre ({self.x},{self.y}) y ({p.x},{p.y}) es: {sqrt((p1.x-p2.x)**2+(p1.y-p2.y)**2)}\"\n",
    "    \n",
    "    def punto_medio(self,p):\n",
    "        return f\"El punto medio entre ({self.x},{self.y}) y ({p.x},{p.y}) es: ({(p.x+self.x)/2},{(p.y+self.y)/2})\"\n",
    "    \n",
    "    def retorna_punto_medio(self,p):\n",
    "        m=Punto((p.x+self.x)/2,(p.y+self.y)/2)\n",
    "        return m\n",
    "    \n",
    "    def retorna_distancia(self,p):\n",
    "        return sqrt((p.x-self.x)**2+(p.y-self.y)**2)\n",
    "    \n",
    "\n",
    "p1=Punto(0,0)\n",
    "p2=Punto(1,1)\n",
    "m=p1.retorna_punto_medio(p2)\n",
    "print(str(p1),str(p2),sep=\"\\t\")\n",
    "print(p1.vector(p2))\n",
    "print(p1.distancia(p2))\n",
    "print(p1.punto_medio(p2))\n",
    "# Comprobando\n",
    "print(p1.retorna_distancia(p2)/2)\n",
    "print(p2.retorna_distancia(p1)/2) \n",
    "print(p1.retorna_distancia(m))"
   ]
  },
  {
   "cell_type": "markdown",
   "metadata": {},
   "source": [
    "# Ejercicio Cifrado\n",
    "\n",
    "1. Realizar un programa que haga el cifrado de Julio César para un mensaje.\n",
    "2. Realizar un programa que haga el decifrado del inciso anterior.\n",
    "3. Hacer una clase que se llame Mensaje la cual tenga de métodos el cifrado y el decifrado de Julio César.\n",
    "4. Simula la siguiente conversación con el cifrado de Julio César, es decir, pon la conversación de manera cifrada.\n",
    "\n",
    "Convesación:\n",
    "\n",
    "- César: los enemigos se acercan\n",
    "- Cuartel: moverse a la posicion dos\n",
    "- César: llegamos a salvo\n",
    "- Cuartel: esperen indicaciones\n",
    "\n",
    "Las fórmulas del cifrado y decifrado, respectivamente son:\n",
    "$$(x+clave) mod 27$$\n",
    "$$(x-clave)mod 27$$\n",
    "donde $x$ es la letra que se quiere cifrar."
   ]
  },
  {
   "cell_type": "markdown",
   "metadata": {},
   "source": [
    "## 1. Cifrado de Julio César"
   ]
  },
  {
   "cell_type": "code",
   "execution_count": null,
   "metadata": {},
   "outputs": [],
   "source": [
    "abc=\"a,b,c,d,e,f,g,h,i,j,k,l,m,n,ñ,o,p,q,r,s,t,u,v,w,x,y,z\"\n",
    "abc=abc.split(\",\")\n",
    "# dada la letra me da la posición\n",
    "def letra_posicion(letra):\n",
    "    return abc.index(letra)\n",
    "    \n",
    "# dada la posición me da la letra\n",
    "def posicion_letra(numero):\n",
    "    return abc[numero]\n",
    "\n",
    "# codificar\n",
    "mensaje=input(\"Introduce un mensaje: \")\n",
    "mensaje=mensaje.split()\n",
    "clave=int(input(\"Introduce la clave: \"))\n",
    "mensaje_cifrado=[]\n",
    "for palabra in mensaje:\n",
    "    n_palabra=\"\"\n",
    "    for letra in palabra:\n",
    "        n=(letra_posicion(letra)+clave)%27\n",
    "        n_palabra+=posicion_letra(n)\n",
    "    mensaje_cifrado.append(n_palabra)\n",
    "print(\" \".join(mensaje_cifrado))"
   ]
  },
  {
   "cell_type": "markdown",
   "metadata": {},
   "source": [
    "## 2. Decifrado"
   ]
  },
  {
   "cell_type": "code",
   "execution_count": null,
   "metadata": {
    "scrolled": false
   },
   "outputs": [],
   "source": [
    "mensaje=input(\"Introduce un mensaje: \")\n",
    "mensaje=mensaje.split()\n",
    "clave=int(input(\"Introduce la clave: \"))\n",
    "mensaje_decifrado=[]\n",
    "for palabra in mensaje:\n",
    "    n_palabra=\"\"\n",
    "    for letra in palabra:\n",
    "        n=(letra_posicion(letra)-clave)%27\n",
    "        n_palabra+=posicion_letra(n)\n",
    "    mensaje_decifrado.append(n_palabra)\n",
    "print(\" \".join(mensaje_decifrado))"
   ]
  },
  {
   "cell_type": "markdown",
   "metadata": {},
   "source": [
    "## 3. Clase Mensaje"
   ]
  },
  {
   "cell_type": "code",
   "execution_count": null,
   "metadata": {},
   "outputs": [],
   "source": [
    "abc=\"a,b,c,d,e,f,g,h,i,j,k,l,m,n,ñ,o,p,q,r,s,t,u,v,w,x,y,z\"\n",
    "abc=abc.split(\",\")\n",
    "# dada la letra me da la posición\n",
    "def letra_posicion(letra):\n",
    "    return abc.index(letra)\n",
    "    \n",
    "# dada la posición me da la letra\n",
    "def posicion_letra(numero):\n",
    "    return abc[numero]\n",
    "\n",
    "class Mensaje():\n",
    "    \n",
    "    def __init__(self,mensaje,clave):\n",
    "        self.mensaje=mensaje.split()\n",
    "        self.clave=clave\n",
    "        \n",
    "    def cifrar(self):\n",
    "        mensaje_cifrado=[]\n",
    "        for palabra in self.mensaje:\n",
    "            n_palabra=\"\"\n",
    "            for letra in palabra:\n",
    "                n=(letra_posicion(letra)+self.clave)%27\n",
    "                n_palabra+=posicion_letra(n)\n",
    "            mensaje_cifrado.append(n_palabra)\n",
    "        return \" \".join(mensaje_cifrado)\n",
    "    \n",
    "    def decifrar(self):\n",
    "        mensaje_decifrado=[]\n",
    "        for palabra in self.mensaje:\n",
    "            n_palabra=\"\"\n",
    "            for letra in palabra:\n",
    "                n=(letra_posicion(letra)-self.clave)%27\n",
    "                n_palabra+=posicion_letra(n)\n",
    "            mensaje_decifrado.append(n_palabra)\n",
    "        return \" \".join(mensaje_decifrado)\n",
    "    \n",
    "    \n",
    "m1=Mensaje(\"hola mundo\",2)\n",
    "print(m1.cifrar())\n",
    "m2=Mensaje(\"jqnc ñwofq\",2)\n",
    "print(m2.decifrar())"
   ]
  },
  {
   "cell_type": "markdown",
   "metadata": {},
   "source": [
    "## 4. Conversación\n",
    "Hagamos una mejora y no demos la clave desde un inicio sino que la clave la tendrán Julio César y el Cuartel desde el principio."
   ]
  },
  {
   "cell_type": "code",
   "execution_count": null,
   "metadata": {},
   "outputs": [],
   "source": [
    "# conversaciones\n",
    "cesar=[\"los enemigos se acercan\",\"llegamos a salvo\"]\n",
    "cuartel=[\"moverse a la posicion dos\",\"esperen indicaciones\"]\n",
    "\n",
    "abc=\"a,b,c,d,e,f,g,h,i,j,k,l,m,n,ñ,o,p,q,r,s,t,u,v,w,x,y,z\"\n",
    "abc=abc.split(\",\")\n",
    "# dada la letra me da la posición\n",
    "def letra_posicion(letra):\n",
    "    return abc.index(letra)\n",
    "    \n",
    "# dada la posición me da la letra\n",
    "def posicion_letra(numero):\n",
    "    return abc[numero]\n",
    "\n",
    "class Mensaje():\n",
    "    \n",
    "    def __init__(self,mensaje):\n",
    "        self.mensaje=mensaje.split()\n",
    "        \n",
    "    def cifrar(self,clave):\n",
    "        mensaje_cifrado=[]\n",
    "        for palabra in self.mensaje:\n",
    "            n_palabra=\"\"\n",
    "            for letra in palabra:\n",
    "                n=(letra_posicion(letra)+clave)%27\n",
    "                n_palabra+=posicion_letra(n)\n",
    "            mensaje_cifrado.append(n_palabra)\n",
    "        return \" \".join(mensaje_cifrado)\n",
    "    \n",
    "    def decifrar(self,clave):\n",
    "        mensaje_decifrado=[]\n",
    "        for palabra in self.mensaje:\n",
    "            n_palabra=\"\"\n",
    "            for letra in palabra:\n",
    "                n=(letra_posicion(letra)-clave)%27\n",
    "                n_palabra+=posicion_letra(n)\n",
    "            mensaje_decifrado.append(n_palabra)\n",
    "        return \" \".join(mensaje_decifrado)\n",
    "\n",
    "for i in range(len(cesar)):\n",
    "    p1=Mensaje(cesar[i])\n",
    "    p2=Mensaje(cuartel[i])\n",
    "    print(cesar[i],p1.cifrar(2),cuartel[i],p2.cifrar(2),sep=\"\\n\")"
   ]
  },
  {
   "cell_type": "markdown",
   "metadata": {},
   "source": [
    "## Ejercicio Personaje\n",
    "\n",
    "1. Hacer una clase que reciba el nombre y las coordenada de un personaje.\n",
    "2. Hacer los métodos para que se pueda mover a izquierda, derecha, arriba y abajo, el número de pasos que se requiera.\n",
    "3. Dar un nombre al personaje al igual que una coordenada, y posteriormente hacer que se mueva: un paso a la derecha, dos hacia arriba, cuatro a la derecha, uno abajo y uno a la izquierda. Determinar su nueva coordenada. "
   ]
  },
  {
   "cell_type": "code",
   "execution_count": null,
   "metadata": {},
   "outputs": [],
   "source": [
    "class Personaje():\n",
    "    \n",
    "    def __init__(self,nombre,x,y):\n",
    "        self.nombre=nombre\n",
    "        self.x=x\n",
    "        self.y=y\n",
    "        print(f\"Se ha creado el personaje: {self.nombre}\")\n",
    "        \n",
    "    def izquierda(self,n):\n",
    "        self.x-=n\n",
    "        \n",
    "    def derecha(self,n):\n",
    "        self.x+=n\n",
    "    \n",
    "    def arriba(self,n):\n",
    "        self.y+=n\n",
    "        \n",
    "    def abajo(self,n):\n",
    "        self.y-=n\n",
    "        \n",
    "p1=Personaje(\"Edgar\",0,0)\n",
    "p1.derecha(1)\n",
    "p1.arriba(2)\n",
    "p1.derecha(4)\n",
    "p1.izquierda(1)\n",
    "p1.abajo(1)\n",
    "print(f\"El personaje {p1.nombre} se encuentra en las coordenadas ({p1.x},{p1.y})\")"
   ]
  }
 ],
 "metadata": {
  "kernelspec": {
   "display_name": "Python 3",
   "language": "python",
   "name": "python3"
  },
  "language_info": {
   "codemirror_mode": {
    "name": "ipython",
    "version": 3
   },
   "file_extension": ".py",
   "mimetype": "text/x-python",
   "name": "python",
   "nbconvert_exporter": "python",
   "pygments_lexer": "ipython3",
   "version": "3.7.3"
  }
 },
 "nbformat": 4,
 "nbformat_minor": 2
}
