{
 "cells": [
  {
   "cell_type": "markdown",
   "metadata": {},
   "source": [
    "A continuación te dejo un nuevo metodo del módulo random y un recordatorio de cómo convertir tipos de datos en Python.\n",
    "### Método choice()\n",
    "El método choice() es del módulo random y nos sirve para elegir, de manera aleatoria, un elemento de una lista. "
   ]
  },
  {
   "cell_type": "code",
   "execution_count": 5,
   "metadata": {},
   "outputs": [
    {
     "name": "stdout",
     "output_type": "stream",
     "text": [
      "5\n"
     ]
    }
   ],
   "source": [
    "import random\n",
    "lista=[1,2,3,4,5,6]\n",
    "x=random.choice(lista)\n",
    "print(x)"
   ]
  },
  {
   "cell_type": "markdown",
   "metadata": {},
   "source": [
    "### Convertir a lista\n",
    "Recuerda que todos los datos los podemos convertir a otro tipo. Por ejemplo, como con la función *input* que nos regresa **str** si nosotros queremos que guarde un número hacemo int(input()). De la misma manera para convertir a una lista usamos *list()* "
   ]
  },
  {
   "cell_type": "code",
   "execution_count": null,
   "metadata": {},
   "outputs": [],
   "source": [
    "cadena=\"Hola\"\n",
    "print(list(cadena))"
   ]
  },
  {
   "cell_type": "markdown",
   "metadata": {},
   "source": [
    "# Métodos de cadenas\n",
    "### Método upper() y lower()\n",
    "Nos sirven para convertir todos los caracteres de un **str** a mayúsculas y minúsculas respectivamente."
   ]
  },
  {
   "cell_type": "code",
   "execution_count": 11,
   "metadata": {},
   "outputs": [
    {
     "name": "stdout",
     "output_type": "stream",
     "text": [
      "HOLA MUNDO GRANDE\n",
      "hola mundo grande\n",
      "Hola mundo grande\n"
     ]
    }
   ],
   "source": [
    "cadena=\"Hola Mundo grande\"\n",
    "print(cadena.upper())\n",
    "print(cadena.lower())\n",
    "# extra\n",
    "print(cadena.capitalize())"
   ]
  },
  {
   "cell_type": "markdown",
   "metadata": {},
   "source": [
    "### Método split()\n",
    "Separa la cadena en subcadenas a partir de sus espacios y devuelve una lista."
   ]
  },
  {
   "cell_type": "code",
   "execution_count": 6,
   "metadata": {},
   "outputs": [
    {
     "name": "stdout",
     "output_type": "stream",
     "text": [
      "['Hola', 'como', 'estas']\n"
     ]
    }
   ],
   "source": [
    "cadena=\"Hola como estas\"\n",
    "print(cadena.split())"
   ]
  },
  {
   "cell_type": "markdown",
   "metadata": {},
   "source": [
    "### Método join()\n",
    "Para convertir un dato de tipo **list** a un **str** necesitamos el método join() el cual nos nos unirá todos los elementos de la lista conforme el caracter que le digamos."
   ]
  },
  {
   "cell_type": "code",
   "execution_count": 12,
   "metadata": {},
   "outputs": [
    {
     "name": "stdout",
     "output_type": "stream",
     "text": [
      "H,o,l,a\n",
      "H.o.l.a\n",
      "H o l a\n",
      "Hola\n"
     ]
    }
   ],
   "source": [
    "lista=[\"H\",\"o\",\"l\",\"a\"]\n",
    "# Unir con separación de una coma\n",
    "print(\",\".join(lista))\n",
    "# Unir con separación de un punto\n",
    "print(\".\".join(lista))\n",
    "# Unir con separación de un espacio\n",
    "print(\" \".join(lista))\n",
    "# Unir sin ninguna separación\n",
    "print(\"\".join(lista))"
   ]
  },
  {
   "cell_type": "markdown",
   "metadata": {},
   "source": [
    "# Ahorcado\n",
    "### Juego del Ahorcado (versión 1) "
   ]
  },
  {
   "cell_type": "code",
   "execution_count": 14,
   "metadata": {},
   "outputs": [
    {
     "name": "stdout",
     "output_type": "stream",
     "text": [
      "Palabra a adivinar: ****\n",
      "Introduce una letra: c\n",
      "Palabra a adivinar: ****\n",
      "Introduce una letra: k\n",
      "Palabra a adivinar: k***\n",
      "Introduce una letra: a\n",
      "Palabra a adivinar: ka**\n",
      "Introduce una letra: n\n",
      "Palabra a adivinar: kan*\n",
      "Introduce una letra: t\n",
      "¡Felicidades has acertado! La palabra es: kant\n"
     ]
    }
   ],
   "source": [
    "import random\n",
    "opciones=[\"historia\",\"alicia\",\"demian\",\"camus\",\"kant\"] \n",
    "palabra=random.choice(opciones)\n",
    "intentos,bandera=0,0\n",
    "progreso=list(\"*\"*len(palabra))\n",
    "while intentos<10:\n",
    "    intentos+=1\n",
    "    mostrar=\"\".join(progreso)\n",
    "    letra=input(f\"Palabra a adivinar: {mostrar}\\nIntroduce una letra: \")\n",
    "    for i in range(len(palabra)):\n",
    "        if palabra[i]==letra:\n",
    "            progreso[i]=letra\n",
    "    if progreso.count(\"*\")==0:\n",
    "        bandera=1\n",
    "        break\n",
    "if bandera==1:\n",
    "    print(f\"¡Felicidades has acertado! La palabra es: {palabra}\")\n",
    "else:\n",
    "    print(f\"Suerte para la próxima La palabra era: {palabra}\")"
   ]
  },
  {
   "cell_type": "markdown",
   "metadata": {},
   "source": [
    "Podemos mejorar nuestro programa si hacemos que sea indistinto que ponga la letra en mayúsculas o minúsculas."
   ]
  },
  {
   "cell_type": "code",
   "execution_count": 15,
   "metadata": {},
   "outputs": [
    {
     "name": "stdout",
     "output_type": "stream",
     "text": [
      "Palabra a adivinar: *****\n",
      "Introduce una letra: k\n",
      "Palabra a adivinar: *****\n",
      "Introduce una letra: c\n",
      "Palabra a adivinar: c****\n",
      "Introduce una letra: a\n",
      "Palabra a adivinar: ca***\n",
      "Introduce una letra: m\n",
      "Palabra a adivinar: cam**\n",
      "Introduce una letra: u\n",
      "Palabra a adivinar: camu*\n",
      "Introduce una letra: s\n",
      "¡Felicidades has acertado! La palabra es: Camus\n"
     ]
    }
   ],
   "source": [
    "import random\n",
    "opciones=[\"Historia\",\"Alicia\",\"Demian\",\"Camus\",\"Kant\"]\n",
    "palabra=random.choice(opciones)\n",
    "intentos,bandera=0,0\n",
    "progreso=list(\"*\"*len(palabra))\n",
    "while intentos<10:\n",
    "    intentos+=1\n",
    "    mostrar=\"\".join(progreso)\n",
    "    letra=input(f\"Palabra a adivinar: {mostrar}\\nIntroduce una letra: \")\n",
    "    for i in range(len(palabra)):\n",
    "        if palabra[i].lower()==letra or palabra[i].upper()==letra:\n",
    "            progreso[i]=letra\n",
    "    if progreso.count(\"*\")==0:\n",
    "        bandera=1\n",
    "        break\n",
    "if bandera==1:\n",
    "    print(f\"¡Felicidades has acertado! La palabra es: {palabra}\")\n",
    "else:\n",
    "    print(f\"Suerte para la próxima La palabra era: {palabra}\")"
   ]
  },
  {
   "cell_type": "markdown",
   "metadata": {},
   "source": [
    "### Juego del Ahorcado (versión 2) "
   ]
  },
  {
   "cell_type": "code",
   "execution_count": 16,
   "metadata": {},
   "outputs": [
    {
     "name": "stdout",
     "output_type": "stream",
     "text": [
      "        !=========N\n",
      "Palabra a adivinar: ******\n",
      "Introduce una letra: a\n",
      "        !=========N\n",
      "Palabra a adivinar: a****a\n",
      "Introduce una letra: h\n",
      "        !=========N\n",
      "        O         N\n",
      "Palabra a adivinar: a****a\n",
      "Introduce una letra: l\n",
      "        !=========N\n",
      "        O         N\n",
      "Palabra a adivinar: al***a\n",
      "Introduce una letra: p\n",
      "        !=========N\n",
      "        O         N\n",
      "      / | \\       N\n",
      "Palabra a adivinar: al***a\n",
      "Introduce una letra: j\n",
      "        !=========N\n",
      "        O         N\n",
      "      / | \\       N\n",
      "      \\ | /       N\n",
      "Palabra a adivinar: al***a\n",
      "Introduce una letra: i\n",
      "        !=========N\n",
      "        O         N\n",
      "      / | \\       N\n",
      "      \\ | /       N\n",
      "Palabra a adivinar: ali*ia\n",
      "Introduce una letra: c\n",
      "¡Felicidades has acertado! La palabra es: alicia\n"
     ]
    }
   ],
   "source": [
    "import random\n",
    "def ahorcado(n):\n",
    "    ahorcado=[\n",
    "    \"        !=========N\",\n",
    "    \"        O         N\",\n",
    "    \"      / | \\       N\",\n",
    "    \"      \\ | /       N\",\n",
    "    \"        |         N\",\n",
    "    \"       / \\        N\",\n",
    "    \"      /   \\       N\",\n",
    "    \"     _\\   /_      N\",\n",
    "    ]\n",
    "    for i in range(n+1):\n",
    "        print(ahorcado[i])\n",
    "        \n",
    "opciones=[\"historia\",\"alicia\",\"demian\",\"camus\",\"kant\"]\n",
    "palabra=random.choice(opciones)\n",
    "progreso=list(\"*\"*len(palabra))\n",
    "fallos,bandera=0,0\n",
    "while True:\n",
    "    ahorcado(fallos)\n",
    "    mostrar=\"\".join(progreso)\n",
    "    letra=input(f\"Palabra a adivinar: {mostrar}\\nIntroduce una letra: \")\n",
    "    if letra not in palabra:\n",
    "        fallos+=1\n",
    "    for i in range(len(palabra)):\n",
    "        if palabra[i]==letra:\n",
    "            progreso[i]=letra\n",
    "    if progreso.count(\"*\")==0 and fallos<8:\n",
    "        print(f\"¡Felicidades has acertado! La palabra es: {palabra}\")\n",
    "        break\n",
    "    if fallos==8:\n",
    "        print(f\"Suerte para la próxima La palabra era: {palabra}\")\n",
    "        break"
   ]
  },
  {
   "cell_type": "markdown",
   "metadata": {},
   "source": [
    "# Simulación\n",
    "Muchas veces nos será complicado realizar ciertos cálculos de manera analítica, por lo que una alternativa es simular el comportamiento para aprovechar la Ley de los Grandes Números."
   ]
  },
  {
   "cell_type": "code",
   "execution_count": 23,
   "metadata": {},
   "outputs": [
    {
     "name": "stdout",
     "output_type": "stream",
     "text": [
      "La probabilidad de obtener águila es de: 0.49941 y sol de: 0.50059\n"
     ]
    }
   ],
   "source": [
    "# Simulación de un volado\n",
    "import random\n",
    "a,s=0,0\n",
    "for i in range(100000):\n",
    "    moneda=random.choice([0,1])\n",
    "    if moneda==0:\n",
    "        a+=1\n",
    "    else:\n",
    "        s+=1\n",
    "print(f\"La probabilidad de obtener águila es de: {a/100000} y sol de: {s/100000}\")"
   ]
  },
  {
   "cell_type": "code",
   "execution_count": 24,
   "metadata": {},
   "outputs": [
    {
     "name": "stdout",
     "output_type": "stream",
     "text": [
      "*********** Probabilidad simulada ******************\n",
      "La probabilidad de obtener 2 en un dado es: 0.1691\n",
      "*********** Probabilidad real **********************\n",
      "0.16666666666666666\n"
     ]
    }
   ],
   "source": [
    "# Simulación de una dado\n",
    "exitos=0\n",
    "for i in range(10000):\n",
    "    dado=random.choice([1,2,3,4,5,6])\n",
    "    if dado==2:\n",
    "        exitos+=1\n",
    "print(\"*********** Probabilidad simulada ******************\")\n",
    "print(f\"La probabilidad de obtener 2 en un dado es: {exitos/10000}\")\n",
    "print(\"*********** Probabilidad real **********************\")\n",
    "print(1/6)"
   ]
  },
  {
   "cell_type": "code",
   "execution_count": 25,
   "metadata": {},
   "outputs": [
    {
     "name": "stdout",
     "output_type": "stream",
     "text": [
      "*********** Probabilidad simulada ******************\n",
      "La probabilidad de obtener águila y un número es: 0.24993\n",
      "**************Probabilidad real **********************\n",
      "0.25\n"
     ]
    }
   ],
   "source": [
    "# Simulación de un dado y una moneda\n",
    "import random\n",
    "exitos=0\n",
    "for i in range(100000):\n",
    "    moneda=random.choice(['a','s'])\n",
    "    dado=random.choice([1,2,3,4,5,6])\n",
    "    if moneda=='a' and (dado==2 or dado==4 or dado==6):\n",
    "        exitos+=1\n",
    "print(\"*********** Probabilidad simulada ******************\")\n",
    "print(f\"La probabilidad de obtener águila y un número es: {exitos/100000}\")\n",
    "print(\"**************Probabilidad real **********************\")\n",
    "print(1/4)"
   ]
  },
  {
   "cell_type": "code",
   "execution_count": 26,
   "metadata": {},
   "outputs": [
    {
     "name": "stdout",
     "output_type": "stream",
     "text": [
      "*********** Probabilidad simulada ******************\n",
      "La probabilidad de obtener águila y un número es: 0.25004\n",
      "**************Probabilidad real **********************\n",
      "0.25\n"
     ]
    }
   ],
   "source": [
    "# Simulación de un dado y una moneda\n",
    "import random\n",
    "exitos=0\n",
    "for i in range(100000):\n",
    "    moneda=random.choice(['a','s'])\n",
    "    dado=random.choice([1,2,3,4,5,6])\n",
    "    if moneda=='a' and dado%2==0:\n",
    "        exitos+=1\n",
    "print(\"*********** Probabilidad simulada ******************\")\n",
    "print(f\"La probabilidad de obtener águila y un número es: {exitos/100000}\")\n",
    "print(\"**************Probabilidad real **********************\")\n",
    "print(1/4)"
   ]
  },
  {
   "cell_type": "markdown",
   "metadata": {},
   "source": [
    "## Ejercicio 1\n",
    "Se tiene una canasta con 6 canicas de las cuales 3 son blancas, 2 rojas 1 una es azul. Simula la probabilidad de obtener:\n",
    "1. Una canica roja.\n",
    "2. Una canica roja o azul."
   ]
  },
  {
   "cell_type": "code",
   "execution_count": null,
   "metadata": {},
   "outputs": [],
   "source": [
    "import random\n",
    "exitos_1,exitos_2=0,0\n",
    "canicas=['b','b','b','r','r','a']\n",
    "for i in range(1000):\n",
    "    canica=random.choice(canicas)\n",
    "    if canica=='r':\n",
    "        exitos_1+=1\n",
    "    if canica=='r' or canica=='a':\n",
    "        exitos_2+=1\n",
    "print(\"*********** Probabilidad simulada ******************\")\n",
    "print(f\"La probabilidad de obtener una canica roja es: {exitos_1/1000}\")\n",
    "print(f\"La probabilidad de obtener una canica roja o un canica azul es: {exitos_2/1000}\")\n",
    "print(\"**************Probabilidad real **********************\")\n",
    "print(\"Una canica roja:\",2/6)\n",
    "print(\"Una canica roja o azul:\",2/6+1/6)"
   ]
  },
  {
   "cell_type": "markdown",
   "metadata": {},
   "source": [
    "## Ejemplo 1\n",
    "Se tiene una canasta con 6 canicas de las cuales 3 son blancas, 2 rojas 1 una es azul. Se tomarán dos canicas con remplazo (antes de tomar la segunda canica se vuelve a meter la primera) y se pide calcular la probabilidad de obtener:\n",
    "1. 2 canicas rojas.\n",
    "2. 1 roja y 1 azul.\n",
    "3. 2 blancas."
   ]
  },
  {
   "cell_type": "code",
   "execution_count": 27,
   "metadata": {},
   "outputs": [
    {
     "name": "stdout",
     "output_type": "stream",
     "text": [
      "*********** Probabilidad simulada ******************\n",
      "La probabilidad de obtener 2 canicas rojas es: 0.1043\n",
      "La probabilidad de obtener 1 roja y 1 azul es: 0.0575\n",
      "La probabilidad de obtener 2 blancas es: 0.2476\n",
      "**************Probabilidad real **********************\n",
      "2 canicas rojas: 0.1111111111111111\n",
      "1 roja y 1 azul: 0.05555555555555555\n",
      "2 canicas blancas: 0.25\n"
     ]
    }
   ],
   "source": [
    "import random\n",
    "exitos_1,exitos_2,exitos_3=0,0,0\n",
    "canicas=['b','b','b','r','r','a']\n",
    "for i in range(10000):\n",
    "    canica=random.choice(canicas)\n",
    "    if canica=='r':\n",
    "        canica=random.choice(canicas)\n",
    "        if canica=='r':\n",
    "            exitos_1+=1\n",
    "        elif canica=='a':\n",
    "            exitos_2+=1\n",
    "    elif canica=='b':\n",
    "        canica=random.choice(canicas)\n",
    "        if canica=='b':\n",
    "            exitos_3+=1\n",
    "print(\"*********** Probabilidad simulada ******************\")\n",
    "print(f\"La probabilidad de obtener 2 canicas rojas es: {exitos_1/10000}\")\n",
    "print(f\"La probabilidad de obtener 1 roja y 1 azul es: {exitos_2/10000}\")\n",
    "print(f\"La probabilidad de obtener 2 blancas es: {exitos_3/10000}\")\n",
    "print(\"**************Probabilidad real **********************\")\n",
    "print(\"2 canicas rojas:\",(2/6)**2)\n",
    "print(\"1 roja y 1 azul:\",(2/6)*(1/6))\n",
    "print(\"2 canicas blancas:\",(3/6)*(3/6))"
   ]
  },
  {
   "cell_type": "markdown",
   "metadata": {},
   "source": [
    "### Método remove()\n",
    "Nos sirve para eliminar un elemento de una lista (lo contrario al append())"
   ]
  },
  {
   "cell_type": "code",
   "execution_count": 28,
   "metadata": {},
   "outputs": [
    {
     "data": {
      "text/plain": [
       "['b', 'b', 'r', 'r', 'a']"
      ]
     },
     "execution_count": 28,
     "metadata": {},
     "output_type": "execute_result"
    }
   ],
   "source": [
    "canicas=['b','b','b','r','r','a']\n",
    "canicas.remove('b')\n",
    "canicas"
   ]
  },
  {
   "cell_type": "markdown",
   "metadata": {},
   "source": [
    "## Ejercicio\n",
    "Realizar el **Ejemplo 1** pero ahora sin remplazo."
   ]
  },
  {
   "cell_type": "code",
   "execution_count": 29,
   "metadata": {},
   "outputs": [
    {
     "name": "stdout",
     "output_type": "stream",
     "text": [
      "*********** Probabilidad simulada ******************\n",
      "La probabilidad de obtener 2 canicas rojas es: 0.0612\n",
      "La probabilidad de obtener 1 roja y 1 azul es: 0.0667\n",
      "La probabilidad de obtener 2 blancas es: 0.1933\n",
      "**************Probabilidad real **********************\n",
      "2 canicas rojas: 0.06666666666666667\n",
      "1 roja y 1 azul: 0.06666666666666667\n",
      "2 canicas blancas: 0.2\n"
     ]
    }
   ],
   "source": [
    "import random\n",
    "exitos_1,exitos_2,exitos_3=0,0,0\n",
    "for i in range(10000):\n",
    "    canicas=['b','b','b','r','r','a'] # hay que volver a decclarar la lista canicas porque le quitamos elementos\n",
    "    canica=random.choice(canicas)\n",
    "    if canica=='r':\n",
    "        canicas.remove('r')\n",
    "        canica=random.choice(canicas)\n",
    "        if canica=='r':\n",
    "            exitos_1+=1\n",
    "        elif canica=='a':\n",
    "            exitos_2+=1\n",
    "    elif canica=='b':\n",
    "        canicas.remove('b')\n",
    "        canica=random.choice(canicas)\n",
    "        if canica=='b':\n",
    "            exitos_3+=1\n",
    "print(\"*********** Probabilidad simulada ******************\")\n",
    "print(f\"La probabilidad de obtener 2 canicas rojas es: {exitos_1/10000}\")\n",
    "print(f\"La probabilidad de obtener 1 roja y 1 azul es: {exitos_2/10000}\")\n",
    "print(f\"La probabilidad de obtener 2 blancas es: {exitos_3/10000}\")\n",
    "print(\"**************Probabilidad real **********************\")\n",
    "print(\"2 canicas rojas:\",(2/6)*(1/5))\n",
    "print(\"1 roja y 1 azul:\",(2/6)*(1/5))\n",
    "print(\"2 canicas blancas:\",(3/6)*(2/5))"
   ]
  },
  {
   "cell_type": "markdown",
   "metadata": {},
   "source": [
    "### Ejercicio\n",
    "Realizar un programa que le pida al usuario el nombre y edad de alumnos hasta que el usuario ya no quiera introducir más. Una vez que se tengan almacenados todos los alumnos con sus edades deberá desplegar un menú de la siguiente manera:\n",
    "1. Mostrar todos los alumnos.\n",
    "2. Eliminar un alumno.\n",
    "3. Añadir un nuevo alumno.\n",
    "4. Salir.\n",
    "\n",
    "Cada opción hará lo que se pide y el programa no dejará de ejecutarse hasta que el usuario elija la opción de salir."
   ]
  },
  {
   "cell_type": "code",
   "execution_count": null,
   "metadata": {},
   "outputs": [],
   "source": [
    "def mostrar(lista):\n",
    "    for i in range(len(lista)):\n",
    "            print(f\"{i+1}. Nombre: {lista[i][0]}\\tEdad {lista[i][1]}\")\n",
    "            \n",
    "respuesta=\"si\"\n",
    "alumnos=[]\n",
    "while respuesta==\"si\":\n",
    "    nombre=input(\"Introduce el nombre del alumno: \")\n",
    "    edad=int(input(\"Introduce la edad: \"))\n",
    "    alumno=[nombre,edad]\n",
    "    alumnos.append(alumno)\n",
    "    respuesta=input(\"Deseas introducir otro alumno <si-no>\")\n",
    "while True:\n",
    "    opc=int(input(\"Elige una opción:\\n1. Mostrar todos los alumnos.\\n2. Eliminar un alumno\\n3. Añadir un nuevo alumno.\\n4. Salir\\n\"))\n",
    "    if opc==1:\n",
    "        mostrar(alumnos)\n",
    "    elif opc==2:\n",
    "        mostrar(alumnos)\n",
    "        elimina=int(input(\"¿A cuál alumno deseas eliminar?\"))\n",
    "        del(alumnos[elimina-1])\n",
    "        print(\"¡Listo! Alumno elimninado\")\n",
    "        mostrar(alumnos)\n",
    "    elif opc==3:\n",
    "        nombre=input(\"Introduce el nombre del alumno: \")\n",
    "        edad=int(input(\"Introduce la edad: \"))\n",
    "        alumno=[nombre,edad]\n",
    "        alumnos.append(alumno)\n",
    "        print(\"¡Listo! Alumno agregado\")\n",
    "        mostrar(alumnos)\n",
    "    if opc==4:\n",
    "        break"
   ]
  }
 ],
 "metadata": {
  "kernelspec": {
   "display_name": "Python 3",
   "language": "python",
   "name": "python3"
  },
  "language_info": {
   "codemirror_mode": {
    "name": "ipython",
    "version": 3
   },
   "file_extension": ".py",
   "mimetype": "text/x-python",
   "name": "python",
   "nbconvert_exporter": "python",
   "pygments_lexer": "ipython3",
   "version": "3.7.3"
  }
 },
 "nbformat": 4,
 "nbformat_minor": 2
}
