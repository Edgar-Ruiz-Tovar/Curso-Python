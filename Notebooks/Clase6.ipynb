{
 "cells": [
  {
   "cell_type": "markdown",
   "metadata": {},
   "source": [
    "# Programación Orientada a Objetos (POO)\n",
    "## Clases, Métodos y Atributos\n",
    "En la vida diaria podemos catalogar todo lo que conocemos como objetos. Por ejemplo, todos los días usamos el celular, la laptop, el coche, los libros. \n",
    "\n",
    "El secreto de la POO es identificar los **métodos** y los **atributos** de un objeto. Un atributo es una cualidad o una característica del objeto y un método es una habilidad o bien función que pueda desarrollar ese objeto. Siguiendo con los ejemplos anteriores, un celular tiene de atributos su color, tamaño o compañía a la que pertenece, y de métodos el de llamar, encender o apagar; un coche tiene de atributos de igual manera el color, modelo, o el kilometraje mientras que sus métodos serían el arrancar, acelerar o frenarse.\n",
    "\n",
    "Como puedes ver todo lo que nos rodea se puede pensar como un objeto y el secreto es saber catalogar qué tipo de objeto es o mejor dicho, a qué **clase** pertenece. A lo que me refiero es que si tenemos un Nokia, un Samsung y un Iphone, en vez de pensar en cada uno de ellos como un objeto diferente es mejor decir que los tres son objetos de tipo celular o mejor dicho de *clase celular*, y tienen un atributo el cual es la compañía a la que petenecen.\n",
    "\n",
    "En síntesis, todo lo que existe en el mundo se puede pensar como un objeto que pertenece a una clase. \n",
    "\n",
    "Nota que las clases pueden aumentar su extensión pues si ahora sumamos un teléfono de casa al ejemplo de los celulares, entonces nos convendría pensar que todos pertenecen a la clase de Teléfonos y el atributo es qué tipo de teléfono son: celular o de casa.  \n",
    "\n",
    "Tomemos el ejemplo del celular para explicar la idea mientras lo programamos."
   ]
  },
  {
   "cell_type": "markdown",
   "metadata": {},
   "source": [
    "## Ejemplo: celular\n",
    "Vamos a crear una clase llamada celular. Por convención los nombres de las clases inician con mayúsculas."
   ]
  },
  {
   "cell_type": "code",
   "execution_count": 1,
   "metadata": {},
   "outputs": [],
   "source": [
    "class Celular():  \n",
    "    pass"
   ]
  },
  {
   "cell_type": "markdown",
   "metadata": {},
   "source": [
    "Ahora vamos a crear un objeto de la clase celular al cual llamaremos cel. Este procedimiento de crear el objeto también se le conoce con el nombre de *instanciar un objeto de la clase*"
   ]
  },
  {
   "cell_type": "code",
   "execution_count": 2,
   "metadata": {},
   "outputs": [],
   "source": [
    "cel=Celular()"
   ]
  },
  {
   "cell_type": "markdown",
   "metadata": {},
   "source": [
    "Con la notación punto podemos asignarle atributos, nosotros le asignaremos el color y la marca."
   ]
  },
  {
   "cell_type": "code",
   "execution_count": 3,
   "metadata": {},
   "outputs": [
    {
     "name": "stdout",
     "output_type": "stream",
     "text": [
      "Negro\n",
      "Motorola\n"
     ]
    }
   ],
   "source": [
    "cel.color=\"Negro\"\n",
    "cel.marca=\"Motorola\"\n",
    "print(cel.color)\n",
    "print(cel.marca)"
   ]
  },
  {
   "cell_type": "markdown",
   "metadata": {},
   "source": [
    "Pero, ¿tendríamos que hacer esto cada vez que queramos darle un atributo a un objeto?\n",
    "\n",
    "La respuesta es no, nosotros dentro de la clase se lo podemos asignar."
   ]
  },
  {
   "cell_type": "code",
   "execution_count": 6,
   "metadata": {},
   "outputs": [
    {
     "name": "stdout",
     "output_type": "stream",
     "text": [
      "Objeto 1\n",
      "Azul Huawei\n",
      "Objeto 2\n",
      "Azul Huawei\n"
     ]
    }
   ],
   "source": [
    "class Celular():  \n",
    "    color=\"Azul\"\n",
    "    marca=\"Huawei\"\n",
    "\n",
    "cel=Celular()\n",
    "cel1=Celular()\n",
    "print(\"Objeto 1\")\n",
    "print(cel.color,cel.marca)\n",
    "print(\"Objeto 2\")\n",
    "print(cel1.color,cel1.marca)"
   ]
  },
  {
   "cell_type": "markdown",
   "metadata": {},
   "source": [
    "## Método constructor\n",
    "Y vienen preguntas aún más importantes ¿Y qué tal que quisiéramos crear más objetos de tipo celular (clase celular)? ¿Cómo les asignaríamos a cada uno sus atributos? \n",
    "Y aquí viene realmente lo bueno porque vamos a crear algo que se llama el método constructor. "
   ]
  },
  {
   "cell_type": "code",
   "execution_count": 7,
   "metadata": {},
   "outputs": [
    {
     "name": "stdout",
     "output_type": "stream",
     "text": [
      "Negro Iphone\n",
      "Blanco ZP\n"
     ]
    }
   ],
   "source": [
    "class Celular():  \n",
    "    \n",
    "    def __init__(self,color,marca): # el parámetro self es el mismo objeto\n",
    "        self.color=color # le asignamos a cel.color el parámetro que se haya puesto en color\n",
    "        self.marca=marca # y a cel.marca el parámetro marca\n",
    "\n",
    "cel=Celular(\"Negro\",\"Iphone\") # le damos los parámetros en el orden que los pusimos en la clase\n",
    "x=Celular(\"Blanco\",\"ZP\")\n",
    "print(cel.color,cel.marca)\n",
    "print(x.color,x.marca)"
   ]
  },
  {
   "cell_type": "markdown",
   "metadata": {},
   "source": [
    "Como ves el método constructor nos va a construir nuestro objeto con los parámetros que nosotros le demos, con esto ya podemos crear múltiples objetos y con diferentes atributos cada uno."
   ]
  },
  {
   "cell_type": "code",
   "execution_count": 9,
   "metadata": {},
   "outputs": [
    {
     "name": "stdout",
     "output_type": "stream",
     "text": [
      "Se ha creado un nuevo celular\n",
      "La marca del celular es: Iphone \tEl color: Negro\n",
      "Se ha creado un nuevo celular\n",
      "La marca del otro celular es: Sony\tSu color: Blanco\n"
     ]
    }
   ],
   "source": [
    "class Celular():  \n",
    "    \n",
    "    def __init__(self,color,marca): \n",
    "        self.color=color \n",
    "        self.marca=marca \n",
    "        print(\"Se ha creado un nuevo celular\") # avisamos que se ha creado un nuevo objeto\n",
    "\n",
    "cel1=Celular(\"Negro\",\"Iphone\")\n",
    "print(f\"La marca del celular es: {cel1.marca} \\tEl color: {cel1.color}\")\n",
    "cel2=Celular(\"Blanco\",\"Sony\")\n",
    "print(f\"La marca del otro celular es: {cel2.marca}\\tSu color: {cel2.color}\")"
   ]
  },
  {
   "cell_type": "markdown",
   "metadata": {},
   "source": [
    "Ahora vamos a crear un método que se llame encender() y que nos diga cuando se encienda el celular"
   ]
  },
  {
   "cell_type": "code",
   "execution_count": 10,
   "metadata": {},
   "outputs": [
    {
     "name": "stdout",
     "output_type": "stream",
     "text": [
      "Se ha creado un nuevo celular\n",
      "Celular encendido\n"
     ]
    }
   ],
   "source": [
    "class Celular():  \n",
    "    \n",
    "    def __init__(self,color,marca): \n",
    "        self.color=color \n",
    "        self.marca=marca \n",
    "        print(\"Se ha creado un nuevo celular\")\n",
    "        \n",
    "    def encender(self):\n",
    "        return \"Celular encendido\"\n",
    "\n",
    "cel1=Celular(\"Negro\",\"Iphone\")\n",
    "print(cel1.encender())"
   ]
  },
  {
   "cell_type": "markdown",
   "metadata": {},
   "source": [
    "Y un método que sea llamar(persona) el cual reciba de parámetro a la persona que se le quiere llamar"
   ]
  },
  {
   "cell_type": "code",
   "execution_count": 11,
   "metadata": {},
   "outputs": [
    {
     "name": "stdout",
     "output_type": "stream",
     "text": [
      "Celular encendido\n",
      "Llamando a Cathy\n"
     ]
    }
   ],
   "source": [
    "class Celular():\n",
    "    \n",
    "    def __init__(self,color,marca):\n",
    "        self.color=color\n",
    "        self.marca=marca\n",
    "        \n",
    "    def encender(self):\n",
    "        return \"Celular encendido\"\n",
    "        \n",
    "    def llamar(self,persona): # recibe la persona a la cual se le quiera llamar\n",
    "        self.persona=persona\n",
    "        return f\"Llamando a {self.persona}\"\n",
    "    \n",
    "cel1=Celular(\"Azul\",\"Nokia\")\n",
    "print(cel1.encender())\n",
    "print(cel1.llamar(\"Cathy\"))"
   ]
  },
  {
   "cell_type": "markdown",
   "metadata": {},
   "source": [
    "Por último hagamos que solamente pueda llamar si el celular está encendido"
   ]
  },
  {
   "cell_type": "code",
   "execution_count": 12,
   "metadata": {},
   "outputs": [
    {
     "name": "stdout",
     "output_type": "stream",
     "text": [
      "Teléfono apagado\n",
      "Celular encendido\n",
      "Llamando a Cathy\n"
     ]
    }
   ],
   "source": [
    "class Celular():\n",
    "    \n",
    "    def __init__(self,color,marca,encendido=False): # por defecto estará apagado\n",
    "        self.color=color\n",
    "        self.marca=marca\n",
    "        self.encendido=encendido # le damos su atributo de encendido o apagado\n",
    "        \n",
    "    def encender(self):\n",
    "        self.encendido=True # y sólo será True si se ejecuta el método encender\n",
    "        return \"Celular encendido\"\n",
    "        \n",
    "    def llamar(self,persona):\n",
    "        self.persona=persona\n",
    "        if self.encendido:\n",
    "            return f\"Llamando a {self.persona}\"\n",
    "        else:\n",
    "            return \"Teléfono apagado\"\n",
    "    \n",
    "cel1=Celular(\"Azul\",\"Nokia\")\n",
    "print(cel1.llamar(\"Cathy\")) # intentemos marcar sin encender\n",
    "print(cel1.encender())\n",
    "print(cel1.llamar(\"Cathy\"))"
   ]
  },
  {
   "cell_type": "markdown",
   "metadata": {},
   "source": [
    "## Método str: ejemplo coche\n",
    "Recordarás la función str(), pues podemos modificarla para nuestro objeto"
   ]
  },
  {
   "cell_type": "code",
   "execution_count": 13,
   "metadata": {},
   "outputs": [
    {
     "name": "stdout",
     "output_type": "stream",
     "text": [
      "Se ha creado el coche con placas: UKF-1889-O\n",
      "Descripción del coche:\n",
      "Marca: Mazda\n",
      "Modelo: 2009\n",
      "Tipo: Automático\n",
      "Color: Blanco\n",
      "Placa: UKF-1889-O\n"
     ]
    }
   ],
   "source": [
    "class Coche():\n",
    "    \n",
    "    def __init__(self,marca,modelo,tipo,color,placa):\n",
    "        self.marca=marca\n",
    "        self.modelo=modelo\n",
    "        self.tipo=tipo\n",
    "        self.color=color\n",
    "        self.placa=placa\n",
    "        print(f\"Se ha creado el coche con placas: {self.placa}\")\n",
    "        \n",
    "    def __str__(self):\n",
    "        return f\"Descripción del coche:\\nMarca: {self.marca}\\nModelo: {self.modelo}\\nTipo: {self.tipo}\\nColor: {self.color}\\nPlaca: {self.placa}\"\n",
    "\n",
    "c1=Coche(\"Mazda\",\"2009\",\"Automático\",\"Blanco\",\"UKF-1889-O\")\n",
    "print(str(c1))"
   ]
  },
  {
   "cell_type": "markdown",
   "metadata": {},
   "source": [
    "## Ejemplo: pintores\n",
    "Supongamos que eres dueño de una galería y te gustaría que cada vez que llegara una pintura de Dalí tus trabajadores la pudieran registrar con su nombre, costo y su originalidad.\n",
    "\n",
    "Pero lo interesante es que quieres que se cumplan ciertas cosas para cada pintura que llegue, las cuales son:\n",
    "### Costos de venta\n",
    "El costo de venta vendrá determinado por el precio en el que tú comprarás la pintura:\n",
    "1. Si el precio de la obra es menor o igual a 1000 pesos se venderá 2.5 veces más cara.\n",
    "2. Si el precio de la obra es mayor a 1000 pero menor o igual a 2000 se venderá 2 veces más cara.\n",
    "3. Si el precio de la obra es mayor a 2000 pesos se venderá 1.5 veces más cara.\n",
    "\n",
    "De igual manera si la pintura es originial no estará en venta y si no se sabe su originalidad entonces tus trabajadores tendrán que consultarlo con el jefe que esté en turno.\n",
    "\n",
    "### Almacenamiento\n",
    "La pintura se almacenará en:\n",
    "1. Sótano si es una réplica.\n",
    "2. Sala principal si es original.\n",
    "3. En recepción si no se desconoce su originalidad."
   ]
  },
  {
   "cell_type": "code",
   "execution_count": 14,
   "metadata": {},
   "outputs": [
    {
     "name": "stdout",
     "output_type": "stream",
     "text": [
      "Se ha creado la pintura: La persistencia de la memoria.\n",
      "\tDescripción\n",
      "Pintura: La persistencia de la memoria\n",
      "Costo: 1000\n",
      "Originalidad: original\n",
      "\n",
      "La persistencia de la memoria\n",
      "1000\n",
      "No se puede vender la pintura\n",
      "Almacenar en la sala principal\n",
      "Se ha creado la pintura: The Sahallow´s Tail.\n",
      "\tDescripción\n",
      "Pintura: The Sahallow´s Tail\n",
      "Costo: 1500\n",
      "Originalidad: replica\n",
      "\n",
      "El precio de venta será de: 3000\n",
      "Almacenar en el sótano\n",
      "Se ha creado la pintura: Galatea de las Esferas.\n",
      "\tDescripción\n",
      "Pintura: Galatea de las Esferas\n",
      "Costo: 2300\n",
      "Originalidad: desconocido\n",
      "\n",
      "Consulte con el jefe en cargo\n",
      "Dejar en la recepción hasta nuevo aviso\n"
     ]
    }
   ],
   "source": [
    "class Dali():\n",
    "    def __init__(self, titulo, costo, originalidad):\n",
    "        \"\"\"Método Constructor\"\"\"\n",
    "        self.titulo=titulo\n",
    "        self.costo=costo\n",
    "        self.originalidad=originalidad\n",
    "        print(f\"Se ha creado la pintura: {self.titulo}.\")\n",
    "        \n",
    "    def __str__(self):\n",
    "        \"\"\"Método str\"\"\"\n",
    "        return f\"\\tDescripción\\nPintura: {self.titulo}\\nCosto: {self.costo}\\nOriginalidad: {self.originalidad}\\n\"\n",
    "    \n",
    "    def precio_venta(self):\n",
    "        if self.originalidad==\"replica\":\n",
    "            if self.costo<=1000:\n",
    "                return f\"El precio de venta será de: {self.costo*2.5}\"\n",
    "            elif self.costo>1000 and self.costo<=2000:\n",
    "                return f\"El precio de venta será de: {self.costo*2}\"\n",
    "            else:\n",
    "                return f\"El precio de venta será de: {self.costo*1.5}\"\n",
    "        elif self.originalidad==\"original\":\n",
    "            return f\"No se puede vender la pintura\"\n",
    "        else:\n",
    "            return f\"Consulte con el jefe en cargo\"\n",
    "        \n",
    "    def almacenamiento(self):\n",
    "        if self.originalidad==\"original\":\n",
    "            return f\"Almacenar en la sala principal\"\n",
    "        elif self.originalidad==\"replica\":\n",
    "            return f\"Almacenar en el sótano\"\n",
    "        else:\n",
    "            return f\"Dejar en la recepción hasta nuevo aviso\"\n",
    "            \n",
    "    \n",
    "p1=Dali(\"La persistencia de la memoria\",1000,\"original\")\n",
    "print(str(p1))\n",
    "print(p1.titulo)\n",
    "print(p1.costo)\n",
    "print(p1.precio_venta())\n",
    "print(p1.almacenamiento())\n",
    "p2=Dali(\"The Sahallow´s Tail\",1500,\"replica\")\n",
    "print(str(p2))\n",
    "print(p2.precio_venta())\n",
    "print(p2.almacenamiento())\n",
    "p3=Dali(\"Galatea de las Esferas\",2300,\"desconocido\")\n",
    "print(str(p3))\n",
    "print(p3.precio_venta())\n",
    "print(p3.almacenamiento())"
   ]
  },
  {
   "cell_type": "markdown",
   "metadata": {},
   "source": [
    "## Herencia\n",
    "Si quisiéramos hacer lo mismo pero ahora para las pinturas de Caravaggio nota que de nada nos serviría repetir el mismo código por lo que en POO tenemos algo que se llama Herencia, y sí, funciona igual que la herencia genética sólo que ahora diremos que una clase hereda los atributos y métodos de otra clase.\n",
    "\n",
    "La clase que hereda se llamará **clase Padre** o **Superclase**. La clase a la cual se le hereda se llamará **clase hija**.\n",
    "\n",
    "En nuestro caso la clase padre es Dali y queremos heredar todos los métodos y atributos a la clase hija que se llamará Caravaggio."
   ]
  },
  {
   "cell_type": "code",
   "execution_count": 15,
   "metadata": {},
   "outputs": [
    {
     "name": "stdout",
     "output_type": "stream",
     "text": [
      "Se ha creado la pintura: La vocación de San Mateo.\n",
      "\tDescripción\n",
      "Pintura: La vocación de San Mateo\n",
      "Costo: 800\n",
      "Originalidad: replica\n",
      "\n",
      "La vocación de San Mateo\n",
      "800\n",
      "El precio de venta será de: 2000.0\n",
      "Almacenar en el sótano\n",
      "Se ha creado la pintura: Judit y Holofernes.\n",
      "\tDescripción\n",
      "Pintura: Judit y Holofernes\n",
      "Costo: 1700\n",
      "Originalidad: desconocido\n",
      "\n",
      "Consulte con el jefe en cargo\n",
      "Dejar en la recepción hasta nuevo aviso\n",
      "Se ha creado la pintura: Baco.\n",
      "\tDescripción\n",
      "Pintura: Baco\n",
      "Costo: 2200\n",
      "Originalidad: original\n",
      "\n",
      "No se puede vender la pintura\n",
      "Almacenar en la sala principal\n"
     ]
    }
   ],
   "source": [
    "class Caravaggio(Dali): # La clase Caravaggio hereda de la clase Dalí\n",
    "    pass\n",
    "p1=Caravaggio(\"La vocación de San Mateo\",800,\"replica\")\n",
    "print(str(p1))\n",
    "print(p1.titulo)\n",
    "print(p1.costo)\n",
    "print(p1.precio_venta())\n",
    "print(p1.almacenamiento())\n",
    "p2=Caravaggio(\"Judit y Holofernes\",1700,\"desconocido\")\n",
    "print(str(p2))\n",
    "print(p2.precio_venta())\n",
    "print(p2.almacenamiento())\n",
    "p3=Caravaggio(\"Baco\",2200,\"original\")\n",
    "print(str(p3))\n",
    "print(p3.precio_venta())\n",
    "print(p3.almacenamiento())"
   ]
  },
  {
   "cell_type": "markdown",
   "metadata": {},
   "source": [
    "Y más aún, imagina que te interesa saber si la obra fue hecha en los últimos 10 años activos de Caravaggio (pintó de 1593-1610) por lo que habría que meter otro método a nuestra clase."
   ]
  },
  {
   "cell_type": "code",
   "execution_count": 16,
   "metadata": {},
   "outputs": [
    {
     "name": "stdout",
     "output_type": "stream",
     "text": [
      "Se ha creado la pintura: La vocación de San Mateo.\n",
      "Se ha creado la pintura: Judit y Holofernes.\n",
      "Se ha creado la pintura: Baco.\n",
      "La pintura 'La vocación de San Mateo' es de sus últimos 10 años\n",
      "La pintura 'Judit y Holofernes' no es de sus últimos 10 años\n",
      "La pintura 'Baco' no es de sus últimos 10 años\n"
     ]
    }
   ],
   "source": [
    "class Caravaggio(Dali):\n",
    "    \n",
    "    def ultimos_10_años(self,año):\n",
    "        if año<1600:\n",
    "            return f\"La pintura '{self.titulo}' no es de sus últimos 10 años\"\n",
    "        else:\n",
    "            return f\"La pintura '{self.titulo}' es de sus últimos 10 años\"\n",
    "\n",
    "p1=Caravaggio(\"La vocación de San Mateo\",800,\"replica\")\n",
    "p2=Caravaggio(\"Judit y Holofernes\",1700,\"desconocido\")\n",
    "p3=Caravaggio(\"Baco\",2200,\"original\")\n",
    "print(p1.ultimos_10_años(1600))\n",
    "print(p2.ultimos_10_años(1599))\n",
    "print(p3.ultimos_10_años(1595))"
   ]
  },
  {
   "cell_type": "markdown",
   "metadata": {},
   "source": [
    "## Ejercicio\n",
    "Hacer una clase que se llame Invesión la cual reciba de cada objeto el monto a invertir y dar una tasa aleatoria entre 0 a 0.9. Crear los métodos compuesto(n) y simple(n) los cuales calcularán el interés compuesto y simple, respectivamente, al año *n*. "
   ]
  }
 ],
 "metadata": {
  "kernelspec": {
   "display_name": "Python 3",
   "language": "python",
   "name": "python3"
  },
  "language_info": {
   "codemirror_mode": {
    "name": "ipython",
    "version": 3
   },
   "file_extension": ".py",
   "mimetype": "text/x-python",
   "name": "python",
   "nbconvert_exporter": "python",
   "pygments_lexer": "ipython3",
   "version": "3.7.3"
  }
 },
 "nbformat": 4,
 "nbformat_minor": 2
}
