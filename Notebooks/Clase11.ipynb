{
 "cells": [
  {
   "cell_type": "markdown",
   "metadata": {},
   "source": [
    "# Ejercicio: red neuronal\n",
    "Programar los primeros dos escenarios del siguiente video:\n",
    "https://www.youtube.com/watch?v=UNmqTiOnRfg&t=5s"
   ]
  },
  {
   "cell_type": "code",
   "execution_count": 1,
   "metadata": {},
   "outputs": [],
   "source": [
    "import numpy as np\n",
    "sunny=np.array([1,0])\n",
    "rainy=np.array([0,1])\n",
    "\n",
    "def comida(arreglo):\n",
    "    \"\"\"Dado un arreglo devuelve el string correspondiente\"\"\"\n",
    "    if list(arreglo)==[1,0,0]:\n",
    "        return \"pie\"\n",
    "    elif list(arreglo)==[0,1,0]:\n",
    "        return \"burger\"\n",
    "    else:\n",
    "        return \"chicken\"\n",
    "    \n",
    "def matriz(*args):\n",
    "    lista=[]\n",
    "    for arg in args:\n",
    "        if arg==\"pie\":\n",
    "            arg = [1,0,0]\n",
    "        elif arg==\"burger\":\n",
    "            arg = [0,1,0]\n",
    "        else:\n",
    "            arg = [0,0,1]\n",
    "        lista.append(arg)\n",
    "    m=np.array(lista)\n",
    "    return m.T"
   ]
  },
  {
   "cell_type": "markdown",
   "metadata": {},
   "source": [
    "## Primer escenario\n",
    "Si el día es soleado, prepara pie; si es lluvioso prepara hamburguesas.\n",
    "### Caso 1\n",
    "Día soleado"
   ]
  },
  {
   "cell_type": "code",
   "execution_count": 2,
   "metadata": {},
   "outputs": [
    {
     "data": {
      "text/plain": [
       "'pie'"
      ]
     },
     "execution_count": 2,
     "metadata": {},
     "output_type": "execute_result"
    }
   ],
   "source": [
    "res=matriz(\"pie\",\"burger\").dot(sunny)\n",
    "comida(res)"
   ]
  },
  {
   "cell_type": "markdown",
   "metadata": {},
   "source": [
    "### Caso 2\n",
    "Día lluvioso"
   ]
  },
  {
   "cell_type": "code",
   "execution_count": 3,
   "metadata": {},
   "outputs": [
    {
     "data": {
      "text/plain": [
       "'burger'"
      ]
     },
     "execution_count": 3,
     "metadata": {},
     "output_type": "execute_result"
    }
   ],
   "source": [
    "res=matriz(\"pie\",\"burger\").dot(rainy)\n",
    "comida(res)"
   ]
  },
  {
   "cell_type": "markdown",
   "metadata": {},
   "source": [
    "## Segundo escenario\n",
    "Depende de lo que haya comido el día anterior. Siempre seguirá esta secuencia: pay, hamburguesa, pollo.\n",
    "### Caso 1\n",
    "El día anterior comió 'pay'"
   ]
  },
  {
   "cell_type": "code",
   "execution_count": 4,
   "metadata": {},
   "outputs": [
    {
     "data": {
      "text/plain": [
       "'burger'"
      ]
     },
     "execution_count": 4,
     "metadata": {},
     "output_type": "execute_result"
    }
   ],
   "source": [
    "# las comidas como arreglos\n",
    "p=np.array([1,0,0]) # pie\n",
    "h=np.array([0,1,0]) # burguer\n",
    "c=np.array([0,0,1]) # chicken\n",
    "# la matriz estará en función del siguiente día\n",
    "m=matriz(\"burger\",\"chicken\",\"pie\")\n",
    "comida(m.dot(p))"
   ]
  },
  {
   "cell_type": "markdown",
   "metadata": {},
   "source": [
    "### Caso 2\n",
    "El día anterior comió 'hamburguesa'"
   ]
  },
  {
   "cell_type": "code",
   "execution_count": 5,
   "metadata": {},
   "outputs": [
    {
     "data": {
      "text/plain": [
       "'chicken'"
      ]
     },
     "execution_count": 5,
     "metadata": {},
     "output_type": "execute_result"
    }
   ],
   "source": [
    "comida(m.dot(h))"
   ]
  },
  {
   "cell_type": "markdown",
   "metadata": {},
   "source": [
    "### Caso 3\n",
    "El día anterior comió 'pollo'"
   ]
  },
  {
   "cell_type": "code",
   "execution_count": 6,
   "metadata": {},
   "outputs": [
    {
     "data": {
      "text/plain": [
       "'pie'"
      ]
     },
     "execution_count": 6,
     "metadata": {},
     "output_type": "execute_result"
    }
   ],
   "source": [
    "comida(m.dot(c))"
   ]
  },
  {
   "cell_type": "markdown",
   "metadata": {},
   "source": [
    "# Ejercicio: decimal a romano\n",
    "Convertir un número decimal (máximo hasta 999) a su correspondiente representación en romano."
   ]
  },
  {
   "cell_type": "code",
   "execution_count": 7,
   "metadata": {},
   "outputs": [
    {
     "name": "stdout",
     "output_type": "stream",
     "text": [
      "Introduce un número: 456\n",
      "CDLVI\n"
     ]
    }
   ],
   "source": [
    "unidades=['','I','II','III','IV','V','VI','VII','VIII','IX']\n",
    "decenas=['','X','XX','XXX','XL','L','LX','LXX','LXXX','XC']\n",
    "centenas=['','C','CC','CCC','CD','D','DC','DCC','DCCC','CM']\n",
    "decimal=[unidades,decenas,centenas]\n",
    "def convierte(digito,lista):\n",
    "    return lista[int(digito)]\n",
    "numero=list(input(\"Introduce un número: \"))\n",
    "res=''\n",
    "for i in range(len(numero)):\n",
    "    res+=convierte(numero[i],decimal[len(numero)-(i+1)])\n",
    "print(res)"
   ]
  },
  {
   "cell_type": "markdown",
   "metadata": {},
   "source": [
    "# Ejercicio: Medias móviles\n",
    "Es un método que nos sirve para ver la tendencia de una serie de tiempo. También nos pueden ayudar para obtener el precio de una acción.\n",
    "\n",
    "Fuente: http://progra.usm.cl/apunte/ejercicios/3/series-de-tiempo.html"
   ]
  },
  {
   "cell_type": "code",
   "execution_count": 10,
   "metadata": {},
   "outputs": [
    {
     "name": "stdout",
     "output_type": "stream",
     "text": [
      "[ 3.  4.  2.  1. -1.]\n"
     ]
    },
    {
     "data": {
      "image/png": "[encoded data removed]",
      "text/plain": [
       "<Figure size 432x288 with 1 Axes>"
      ]
     },
     "metadata": {
      "needs_background": "light"
     },
     "output_type": "display_data"
    }
   ],
   "source": [
    "import numpy as np\n",
    "import matplotlib.pyplot as plt\n",
    "\n",
    "s=np.array([5,2,2,8,-4,-1,2])\n",
    "\n",
    "def medias_moviles(arreglo,p):\n",
    "    res=[]\n",
    "    for i in range(len(arreglo)-p+1):\n",
    "        res.append((arreglo[i]+arreglo[i+1]+arreglo[i+2])/p)\n",
    "    return np.array(res)\n",
    "\n",
    "print(medias_moviles(s,3))\n",
    "# gráficas\n",
    "x=np.arange(0,len(s))\n",
    "plt.plot(x,s,color='red',linewidth=3,label='Serie de Tiempo')\n",
    "x=np.arange(1,len(s)-1)\n",
    "plt.plot(x,medias_moviles(s,3),color='blue',linewidth=3,label='Media Móvil')\n",
    "plt.xlabel('Tiempo')\n",
    "plt.ylabel('Valor')\n",
    "plt.legend()\n",
    "plt.grid(True)\n",
    "plt.show()"
   ]
  },
  {
   "cell_type": "markdown",
   "metadata": {},
   "source": [
    "# Ejercicio: conjetura de Collatz\n",
    "Sea la siguiente operación, aplicable a cualquier número entero positivo:\n",
    "\n",
    "- Si el número es par, se divide entre 2.\n",
    "- Si el número es impar, se multiplica por 3 y se suma 1.\n",
    "\n",
    "La conjetura es afirmar que siempre se llega al número 1."
   ]
  },
  {
   "cell_type": "code",
   "execution_count": null,
   "metadata": {},
   "outputs": [],
   "source": [
    "numero=int(input(\"Introduce un entero positivo: \"))\n",
    "while True:\n",
    "    print(numero)\n",
    "    if numero!=1:\n",
    "        if numero%2==0:\n",
    "            numero/=2\n",
    "        else:\n",
    "            numero=3*numero+1\n",
    "    else:\n",
    "        break"
   ]
  },
  {
   "cell_type": "markdown",
   "metadata": {},
   "source": [
    "# Ejercicio: Caminata aleatoria (Movimiento Browniano)"
   ]
  },
  {
   "cell_type": "code",
   "execution_count": 15,
   "metadata": {},
   "outputs": [
    {
     "data": {
      "image/png": "[encoded data removed]",
      "text/plain": [
       "<Figure size 432x288 with 1 Axes>"
      ]
     },
     "metadata": {
      "needs_background": "light"
     },
     "output_type": "display_data"
    }
   ],
   "source": [
    "import numpy as np\n",
    "import matplotlib.pyplot as plt\n",
    "\n",
    "valores=np.arange(0,100)\n",
    "particula=0\n",
    "for i in range(100):\n",
    "    particula+=np.random.choice([1,-1])\n",
    "    valores[i]=particula\n",
    "x=np.arange(0,100)\n",
    "plt.plot(x,valores,color='red',linewidth=3)\n",
    "plt.xlabel('Tiempo')\n",
    "plt.ylabel('Valor')\n",
    "plt.grid(True)\n",
    "plt.show()"
   ]
  },
  {
   "cell_type": "markdown",
   "metadata": {},
   "source": [
    "## Ejercicio\n",
    "Suaviza la gráfica de la caminata aleatoria con la función de medias móviles."
   ]
  },
  {
   "cell_type": "code",
   "execution_count": 18,
   "metadata": {
    "scrolled": false
   },
   "outputs": [
    {
     "data": {
      "image/png": "[encoded data removed]",
      "text/plain": [
       "<Figure size 432x288 with 1 Axes>"
      ]
     },
     "metadata": {
      "needs_background": "light"
     },
     "output_type": "display_data"
    }
   ],
   "source": [
    "import numpy as np\n",
    "import matplotlib.pyplot as plt\n",
    "\n",
    "valores=np.arange(0,100)\n",
    "particula=0\n",
    "for i in range(100):\n",
    "    particula+=np.random.choice([1,-1])\n",
    "    valores[i]=particula\n",
    "x=np.arange(0,100)\n",
    "plt.plot(x,valores,color='red',linewidth=3,label='Caminata Aleatoria')\n",
    "x=np.arange(1,len(valores)-1)\n",
    "plt.plot(x,medias_moviles(valores,3),color='blue',linewidth=2,label='Suavizamiento')\n",
    "plt.xlabel('Tiempo')\n",
    "plt.ylabel('Valor')\n",
    "plt.legend()\n",
    "plt.grid(True)\n",
    "plt.show()"
   ]
  },
  {
   "cell_type": "markdown",
   "metadata": {},
   "source": [
    "## Ejercicio\n",
    "Dado el siguiente enlace:\n",
    "\n",
    "https://mx.investing.com/currencies/usd-mxn-historical-data\n",
    "\n",
    "Grafica los 23 precios de Apertura del dólar y aplica un suavizamiento con el método de las medias móviles. "
   ]
  }
 ],
 "metadata": {
  "kernelspec": {
   "display_name": "Python 3",
   "language": "python",
   "name": "python3"
  },
  "language_info": {
   "codemirror_mode": {
    "name": "ipython",
    "version": 3
   },
   "file_extension": ".py",
   "mimetype": "text/x-python",
   "name": "python",
   "nbconvert_exporter": "python",
   "pygments_lexer": "ipython3",
   "version": "3.7.3"
  }
 },
 "nbformat": 4,
 "nbformat_minor": 2
}
