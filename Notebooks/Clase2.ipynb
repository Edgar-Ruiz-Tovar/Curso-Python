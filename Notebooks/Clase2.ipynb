{
 "cells": [
  {
   "cell_type": "markdown",
   "metadata": {},
   "source": [
    "# Ejercicios:\n",
    "1. Realizar un programa que me imprima la siguiente secuencia de números: 1 3 5 7 9 11 13 15.\n",
    "2. Programar la fórmula del interés compuesto.\n",
    "$$m=c(1+i)^n$$\n",
    "3. Realizar un programa que dada una lista (por ejemplo lista=[2,4,1,3]) imprima la suma de todos sus elementos (2+4+1+3=10).\n",
    "4. Realizar un programa que me imprima los 10 primeros términos de la secuencia Fibonacci."
   ]
  },
  {
   "cell_type": "markdown",
   "metadata": {},
   "source": [
    "# Sentencia if-else\n",
    "La sentencia if-else nos sirve en programación para la toma de desiciones. Por ejemplo, si queremos hacer un programa que dado un número nos diga si es mayor 6 o menor igual 6 tendríamos que:"
   ]
  },
  {
   "cell_type": "code",
   "execution_count": 20,
   "metadata": {},
   "outputs": [
    {
     "name": "stdout",
     "output_type": "stream",
     "text": [
      "Introduce un número: 10\n",
      "El número 10 es mayor a 6\n"
     ]
    }
   ],
   "source": [
    "n=int(input(\"Introduce un número: \"))\n",
    "if(n>6): # si n es mayor a 6\n",
    "    print(\"El número %i es mayor a 6\"%(n)) # entonces imprime esto\n",
    "else: # en cualquier otro caso\n",
    "    print(f\"El número {n} es menor o igual a 6\") # ejecuta esta línea"
   ]
  },
  {
   "cell_type": "markdown",
   "metadata": {},
   "source": [
    "Veamos ciertas consideraciones a tomar:\n",
    "1. la función input() nos sirve para  recibir información del usuario.\n",
    "2. La función input() nos devuelve una dato de tipo *string* por lo que hayq ue convertirlo a tipo *int* para así poder ver si es mayor o menor igual a 6.\n",
    "2. Al final de la sentencia *if* y del *else* tenemos :\n",
    "3. Hay que dar la identación.\n",
    "4. Vemos otra manera de impirmir valores sin usar el format."
   ]
  },
  {
   "cell_type": "markdown",
   "metadata": {},
   "source": [
    "### Ejercicio \n",
    "Realizar un programa que dada la edad de un usuario diga si es mayor o menor de edad en México."
   ]
  },
  {
   "cell_type": "markdown",
   "metadata": {},
   "source": [
    "# Sentencia if-elif-else\n",
    "Esta sentencia nos ayuda cuando queremos tomar una desición pero tenemos más de una opción. Por ejemplo, imagina que queremos decir si un número es positivo, negativo o cero. Entonces"
   ]
  },
  {
   "cell_type": "code",
   "execution_count": 23,
   "metadata": {},
   "outputs": [
    {
     "name": "stdout",
     "output_type": "stream",
     "text": [
      "Introduce un número: 7.5\n",
      "El número 7.5 es positivo.\n"
     ]
    }
   ],
   "source": [
    "numero=float(input(\"Introduce un número: \"))\n",
    "if numero>0: # si el número es mayor a cero\n",
    "    print(f\"El número {numero} es positivo.\")\n",
    "elif numero<0: # si el número es menor a cero\n",
    "    print(f\"El número {numero} es negativo\")\n",
    "else: # en cualquier otro caso\n",
    "    print(\"El número es cero\")"
   ]
  },
  {
   "cell_type": "markdown",
   "metadata": {},
   "source": [
    "### Ejercicio\n",
    "Realizar un programa que dado un número diga a cuál día de la semana corresponde, y en caso de que introducir un número fuera del rango me diga \"número inválido\"."
   ]
  },
  {
   "cell_type": "markdown",
   "metadata": {},
   "source": [
    "# Diccionarios\n",
    "Los diccionarios son un tipo de dato particular de Python el cual está compuesto por claves y valores (a cada clave le corresponde un valor) de la siguiente manera:\n",
    "diccionario={clave_1:valor_1,clave_2:valor_2,...,clave_n:valor_n}"
   ]
  },
  {
   "cell_type": "code",
   "execution_count": 24,
   "metadata": {},
   "outputs": [
    {
     "name": "stdout",
     "output_type": "stream",
     "text": [
      "{'Edgar': 23, 'Ernesto': 11, 'Julio': 18}\n"
     ]
    }
   ],
   "source": [
    "dic={\"Edgar\":23,\"Ernesto\":11,\"Julio\":18}\n",
    "print(dic)"
   ]
  },
  {
   "cell_type": "markdown",
   "metadata": {},
   "source": [
    "### Podemos accesar a los valores por medio de las claves."
   ]
  },
  {
   "cell_type": "code",
   "execution_count": 27,
   "metadata": {},
   "outputs": [
    {
     "name": "stdout",
     "output_type": "stream",
     "text": [
      "23\n",
      "18\n"
     ]
    }
   ],
   "source": [
    "print(dic[\"Edgar\"])\n",
    "print(dic['Julio'])"
   ]
  },
  {
   "cell_type": "markdown",
   "metadata": {},
   "source": [
    "### También podemos modificar los valores por medio de las claves"
   ]
  },
  {
   "cell_type": "code",
   "execution_count": 26,
   "metadata": {},
   "outputs": [
    {
     "name": "stdout",
     "output_type": "stream",
     "text": [
      "{'Edgar': 23, 'Ernesto': 14, 'Julio': 18}\n"
     ]
    }
   ],
   "source": [
    "dic[\"Ernesto\"]=14\n",
    "print(dic)"
   ]
  },
  {
   "cell_type": "markdown",
   "metadata": {},
   "source": [
    "### Borrar elementos de un diccionario"
   ]
  },
  {
   "cell_type": "code",
   "execution_count": 28,
   "metadata": {},
   "outputs": [
    {
     "name": "stdout",
     "output_type": "stream",
     "text": [
      "{'Edgar': 23, 'Ernesto': 14}\n"
     ]
    }
   ],
   "source": [
    "del(dic[\"Julio\"])\n",
    "print(dic)"
   ]
  },
  {
   "cell_type": "markdown",
   "metadata": {},
   "source": [
    "### Uso con ciclo for \n",
    "Imprimir los valores por medio de las claves"
   ]
  },
  {
   "cell_type": "code",
   "execution_count": 31,
   "metadata": {},
   "outputs": [
    {
     "name": "stdout",
     "output_type": "stream",
     "text": [
      "23\n",
      "14\n",
      "Edgar\n",
      "23\n",
      "Ernesto\n",
      "14\n"
     ]
    }
   ],
   "source": [
    "for i in dic:\n",
    "    print(dic[i])\n",
    "for clave in dic:\n",
    "    print(clave)\n",
    "    print(dic[clave])"
   ]
  },
  {
   "cell_type": "code",
   "execution_count": 32,
   "metadata": {},
   "outputs": [
    {
     "name": "stdout",
     "output_type": "stream",
     "text": [
      "Edgar 23\n",
      "Ernesto 14\n"
     ]
    }
   ],
   "source": [
    "# si queremos con nombre y edad necesitamos usar items()\n",
    "for clave,valor in dic.items():\n",
    "    print(clave,valor)"
   ]
  },
  {
   "cell_type": "markdown",
   "metadata": {},
   "source": [
    "### Añadir elementos"
   ]
  },
  {
   "cell_type": "code",
   "execution_count": 33,
   "metadata": {},
   "outputs": [
    {
     "name": "stdout",
     "output_type": "stream",
     "text": [
      "{'Edgar': 23, 'Ernesto': 14, 'NuevaClave': 21}\n"
     ]
    }
   ],
   "source": [
    "dic[\"NuevaClave\"]=21\n",
    "print(dic)"
   ]
  },
  {
   "cell_type": "markdown",
   "metadata": {},
   "source": [
    "## Ejercicio\n",
    "Hacer un programa que dados dos números me imprima un menú con las siguientes opciones:\n",
    "1. Sumar los números.\n",
    "2. Restar los números.\n",
    "3. Multiplicar los números.\n",
    "4. Dividir los números.\n",
    "5. Salir."
   ]
  },
  {
   "cell_type": "markdown",
   "metadata": {},
   "source": [
    "# Funciones\n",
    "En Python hemos visto varias funciones que nos han ayudado a resolver los ejercicios hasta ahora planteados, pero nosotros también podemos crear nuestra propias funciones. "
   ]
  },
  {
   "cell_type": "code",
   "execution_count": 34,
   "metadata": {},
   "outputs": [],
   "source": [
    "def multiplicacion(num1,num2):\n",
    "    return num1*num2"
   ]
  },
  {
   "cell_type": "code",
   "execution_count": 35,
   "metadata": {},
   "outputs": [
    {
     "data": {
      "text/plain": [
       "12"
      ]
     },
     "execution_count": 35,
     "metadata": {},
     "output_type": "execute_result"
    }
   ],
   "source": [
    "multiplicacion(4,3)"
   ]
  },
  {
   "cell_type": "code",
   "execution_count": 36,
   "metadata": {},
   "outputs": [],
   "source": [
    "def suma_lista(lista):\n",
    "    suma=0\n",
    "    for elemento in lista:\n",
    "        suma+=elemento\n",
    "    return suma\n"
   ]
  },
  {
   "cell_type": "code",
   "execution_count": 37,
   "metadata": {},
   "outputs": [
    {
     "data": {
      "text/plain": [
       "15"
      ]
     },
     "execution_count": 37,
     "metadata": {},
     "output_type": "execute_result"
    }
   ],
   "source": [
    "suma_lista([1,2,3,4,5])"
   ]
  }
 ],
 "metadata": {
  "kernelspec": {
   "display_name": "Python 3",
   "language": "python",
   "name": "python3"
  },
  "language_info": {
   "codemirror_mode": {
    "name": "ipython",
    "version": 3
   },
   "file_extension": ".py",
   "mimetype": "text/x-python",
   "name": "python",
   "nbconvert_exporter": "python",
   "pygments_lexer": "ipython3",
   "version": "3.7.3"
  }
 },
 "nbformat": 4,
 "nbformat_minor": 2
}
