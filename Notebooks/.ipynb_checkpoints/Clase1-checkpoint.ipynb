{
 "cells": [
  {
   "cell_type": "markdown",
   "metadata": {},
   "source": [
    "# Introducción  \n",
    "El lenguaje Python es una herramienta muy poderosa la cual nos sirve para resolver problemas.\n",
    "Por ejemplo imagina que queramos calcular la velocidad de un objeto. Entonces en vez de buscar\n",
    "o de tener que aprenderte ésta fórmula y hacer los cálculos, vamos a hacer un pequeño\n",
    "programa en el cual tú des los parámetros que conoces y te calcule la Velocidad."
   ]
  },
  {
   "cell_type": "code",
   "execution_count": null,
   "metadata": {},
   "outputs": [],
   "source": [
    "distancia=4 # creamos la varible distancia donde nosotros le podemos decir cuánto queremos que valga\n",
    "tiempo=6\n",
    "velocidad=distancia/tiempo # y la velocidad será la división\n",
    "print(\"La velocidad es: V={}/{}={}\".format(distancia,tiempo,velocidad))"
   ]
  },
  {
   "cell_type": "markdown",
   "metadata": {},
   "source": [
    "Entonces lo que hicimos fue primero decirle al programa cuánto valían la distancia y cuánto valía el tiempo,\n",
    "con esto el programa ya sabe que la velocidad es la división de estos dos y al final imprimimos con un formato bonito.\n",
    "\n",
    "*Nota: el .format() nos va a imprimir el formato de la variable.*"
   ]
  },
  {
   "cell_type": "code",
   "execution_count": null,
   "metadata": {},
   "outputs": [],
   "source": [
    "# Ahora imagina que quieres tener una fórmula que te calcule el interés simple\n",
    "# Creación de variables:\n",
    "ci=50 # capital inicial \n",
    "i=0.1 # tasa de interés\n",
    "n=8 # número de periodos\n",
    "# Sustitución en la fórmula\n",
    "cf = ci*(1+n*i)\n",
    "# Imprimir resultado\n",
    "print(\"Aplicando la fórmula de interés simple se obtiene que: cf={}(1+{}x{})={}\".format(ci,i,n,cf))"
   ]
  },
  {
   "cell_type": "markdown",
   "metadata": {},
   "source": [
    "## Ejercicios\n",
    "1. Realiza un programa que me calcule el valor presente de una anualidad vencida.\n",
    "2. Realiza un programa que me calcule el valor futuro de una anualidad vencida.\n",
    "$$V_p=R\\left[\\dfrac{1-(1+i)^{-n}}{i}\\right]$$\n",
    "$$V_f=R\\left[\\dfrac{(1+i)^{n}-1}{i}\\right]$$\n",
    "donde\n",
    "$$R=\\text{Renta (el dinero que se va a pagar de manera periódica.}$$\n",
    "$$i=\\text{Tasa de interés.}$$\n",
    "$$n=\\text{Número de periodos.}$$"
   ]
  },
  {
   "cell_type": "markdown",
   "metadata": {},
   "source": [
    "# Variables\n",
    "Una variable es un espacio de la memoria de nuestra computadora al cual le asignamos un nombre y un tipo.\n",
    "Las variables en cualquier tipo de lenguaje son: \n",
    "\t1. Enteras: números enteros. Se escriben como int\n",
    "\t2. Flotantes: números decimales. Se escriben como float\n",
    "\t3. Strings: cualquier conjunto de caracteres. Se escriben como str\n",
    "    4. Booleanos: verdadero y falso (0,1). Se escriben True y False"
   ]
  },
  {
   "cell_type": "markdown",
   "metadata": {},
   "source": [
    "## Enteros"
   ]
  },
  {
   "cell_type": "code",
   "execution_count": null,
   "metadata": {},
   "outputs": [],
   "source": [
    "n=5 # variable de tipo int\n",
    "# Puedo sumarle un número y me dará el resultado de su suma\n",
    "print(f\"La suma es: {n+4}\")\n",
    "# Así como otras operaciones básicas\n",
    "print(f\"Resta: {n-8}\")\n",
    "print(f\"Multiplicación: {n*6}\")\n",
    "print(f\"División: {n/2}\")\n",
    "print(f\"Elevar: {n**3}\")\n",
    "print(f\"Módulo: {n%2}\")"
   ]
  },
  {
   "cell_type": "markdown",
   "metadata": {},
   "source": [
    "## Flotantes"
   ]
  },
  {
   "cell_type": "code",
   "execution_count": null,
   "metadata": {},
   "outputs": [],
   "source": [
    "n=13.5 # variable de tipo float\n",
    "# las funcionalidades son iguales a la de los enteros\n",
    "# convertir un dato de tipo entero a flotante\n",
    "x=5\n",
    "print(type(x)) # con el método type() puedes saber el tipo de dato\n",
    "x=float(x)\n",
    "print(type(x))"
   ]
  },
  {
   "cell_type": "code",
   "execution_count": null,
   "metadata": {},
   "outputs": [],
   "source": [
    "x=\"Hola Cathy\"\n",
    "type(x)"
   ]
  },
  {
   "cell_type": "markdown",
   "metadata": {},
   "source": [
    "## Strings"
   ]
  },
  {
   "cell_type": "code",
   "execution_count": null,
   "metadata": {},
   "outputs": [],
   "source": [
    "cadena1=\"Hola Mundo\" # variable de tipo str\n",
    "print(cadena1)\n",
    "# Algo muy usual que haremos será concatenar cadenas\n",
    "cadena2=\"Otra cadena\"\n",
    "print(cadena1+cadena2)\n",
    "print(cadena1+\" \"+cadena2) # con más presentación\n",
    "# podemos acceder a los caracteres de la cadena mediante índices\n",
    "print(cadena1[2]) # accedemos al tercer caracter de la cadena1\n",
    "print(cadena1[-1]) # accedemos al último caracter de la cadena1\n",
    "# Uso del slicing\n",
    "print(cadena1[0:2]) # [inicio:fin]\n",
    "print(cadena2[0:3])"
   ]
  },
  {
   "cell_type": "markdown",
   "metadata": {},
   "source": [
    "## Booleanos"
   ]
  },
  {
   "cell_type": "code",
   "execution_count": null,
   "metadata": {},
   "outputs": [],
   "source": [
    "valor=True # variable de tipo V/F\n",
    "# se usan para saber el valor de verdad de ciertas sentencias\n",
    "print(3<5) # ¿3 es menor a 5?\n",
    "print(3==5) # ¿3 es igual a 5?\n",
    "print(valor==True) # ¿la variable valor es True?"
   ]
  },
  {
   "cell_type": "markdown",
   "metadata": {},
   "source": [
    "# Otros tipos de datos (listas y tuplas)\n",
    "## Listas\n",
    "Las listas son un tipo compuesto de datos ya que puede almacenar diferentes tipos de datos"
   ]
  },
  {
   "cell_type": "code",
   "execution_count": null,
   "metadata": {},
   "outputs": [],
   "source": [
    "lista_vacia=[] # lista vacía (uso de notación serpiente)\n",
    "lista=[1,2,3,4]\n",
    "print(lista[0]) # imprime su primer elemento\n",
    "print(lista[-1]) # ahora el último\n",
    "lista=[\"Hola\",3,8.9,False] # aquí podemos ver cómo ahora tenemos una lista con diferentes tipos de datos\n",
    "print(lista)\n",
    "print(lista[-1])"
   ]
  },
  {
   "cell_type": "markdown",
   "metadata": {},
   "source": [
    "### Método append()\n",
    "Nos sirve para añadir un elemento al final de una lista"
   ]
  },
  {
   "cell_type": "code",
   "execution_count": null,
   "metadata": {},
   "outputs": [],
   "source": [
    "lista.append(True)\n",
    "print(lista)\n",
    "lista.append(\"2\")\n",
    "print(lista)"
   ]
  },
  {
   "cell_type": "markdown",
   "metadata": {},
   "source": [
    "Por último veamos que podemos modifcar los valores de las listas"
   ]
  },
  {
   "cell_type": "code",
   "execution_count": null,
   "metadata": {},
   "outputs": [],
   "source": [
    "lista_nueva=[1,2,\"3\",\"4\"]\n",
    "print(lista_nueva)\n",
    "lista_nueva[2]=3 # el valor \"3\" lo modificamos por 3\n",
    "print(lista_nueva)"
   ]
  },
  {
   "cell_type": "markdown",
   "metadata": {},
   "source": [
    "## Tuplas\n",
    "Son los mismo que las listas sólo que son inmutables. Esto quiere decir que no podremos agregar nuevos elementos a las tuplas ni podremos modificarlos."
   ]
  },
  {
   "cell_type": "code",
   "execution_count": null,
   "metadata": {},
   "outputs": [],
   "source": [
    "tupla=(1,2,3) # se escriben entre paréntesis a diferencia de las listas que se escriben entre []"
   ]
  },
  {
   "cell_type": "code",
   "execution_count": null,
   "metadata": {},
   "outputs": [],
   "source": [
    "tupla[1]"
   ]
  },
  {
   "cell_type": "code",
   "execution_count": null,
   "metadata": {},
   "outputs": [],
   "source": [
    "tupla.append(2) # nos dará error pues no podemos agregar elementos"
   ]
  },
  {
   "cell_type": "code",
   "execution_count": null,
   "metadata": {},
   "outputs": [],
   "source": [
    "tupla[1]=2 # otro error pues no podemos modificar elementos"
   ]
  },
  {
   "cell_type": "markdown",
   "metadata": {},
   "source": [
    "# Ciclo for()\n",
    "Los ciclos nos sirven para evitar tener que repetir muchas veces una misma instrucción. El ciclo for()\n",
    "nos es muy útil ya que tiene dos caracterizaciones.\n",
    "## Aplicado a listas\n"
   ]
  },
  {
   "cell_type": "code",
   "execution_count": null,
   "metadata": {},
   "outputs": [],
   "source": [
    "numeros=[1,2,3,4]\n",
    "for numero in numeros:\n",
    "    print(numero+1)"
   ]
  },
  {
   "cell_type": "markdown",
   "metadata": {},
   "source": [
    "Como ves este ciclo for() va recorriendo cada elemento de la lista y luego nos lo imprime. Veamos otro ejemplo más:"
   ]
  },
  {
   "cell_type": "code",
   "execution_count": null,
   "metadata": {},
   "outputs": [],
   "source": [
    "vocales=['a','e','i','o','u']\n",
    "for vocal in vocales:\n",
    "    print(vocal+\"c\")"
   ]
  },
  {
   "cell_type": "markdown",
   "metadata": {},
   "source": [
    "## Uso normal en cualquier lenguaje de programación\n",
    "El ciclo for() existe en todos los lenguajes de programación y este es el uso que se aplica."
   ]
  },
  {
   "cell_type": "code",
   "execution_count": null,
   "metadata": {},
   "outputs": [],
   "source": [
    "lista=[1,2,3,4,5]\n",
    "#for i in range(10):\n",
    "for i in range(len(lista)):\n",
    "    print(i)"
   ]
  },
  {
   "cell_type": "markdown",
   "metadata": {},
   "source": [
    "Es decir, este ciclo nos sirve para realizar una cantidad específica de veces algún proceso. La varible i empezará en el valor 0 y se irá incrementando hasta llegar al valor 10-1. También podemos variar los rangos."
   ]
  },
  {
   "cell_type": "code",
   "execution_count": null,
   "metadata": {},
   "outputs": [],
   "source": [
    "for i in range(2,8):\n",
    "    print(i)"
   ]
  },
  {
   "cell_type": "markdown",
   "metadata": {},
   "source": [
    "Y modificar también el tamaño del incremento"
   ]
  },
  {
   "cell_type": "code",
   "execution_count": null,
   "metadata": {},
   "outputs": [],
   "source": [
    "for i in range(1,15,2):\n",
    "    print(i)"
   ]
  }
 ],
 "metadata": {
  "kernelspec": {
   "display_name": "Python 3",
   "language": "python",
   "name": "python3"
  },
  "language_info": {
   "codemirror_mode": {
    "name": "ipython",
    "version": 3
   },
   "file_extension": ".py",
   "mimetype": "text/x-python",
   "name": "python",
   "nbconvert_exporter": "python",
   "pygments_lexer": "ipython3",
   "version": "3.7.3"
  }
 },
 "nbformat": 4,
 "nbformat_minor": 2
}
